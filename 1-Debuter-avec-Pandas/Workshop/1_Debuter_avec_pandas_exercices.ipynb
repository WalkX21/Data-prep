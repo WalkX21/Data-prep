{
    "cells": [
        {
            "cell_type": "markdown",
            "metadata": {
                "colab_type": "text",
                "id": "view-in-github"
            },
            "source": [
                "<a href=\"https://colab.research.google.com/github/kplr-training/Data-Preparation/blob/main/EN/1-Debuter-avec-Pandas/Workshop/1_Debuter_avec_pandas_exercices.ipynb\" target=\"_blank\"><img src=\"https://colab.research.google.com/assets/colab-badge.svg\" alt=\"Open In Colab\"/></a>"
            ]
        },
        {
            "cell_type": "markdown",
            "metadata": {
                "id": "kz-wiFVMXeqB"
            },
            "source": [
                "# **Débuter avec pandas**\n",
                "- Nous commencerons par présenter les classes Series, DataFrame et Index, qui sont les éléments de base de la bibliothèque pandas, et montrerons comment les utiliser.\n",
                "- À la fin de cette section, vous serez en mesure de créer des DataFrames et d'y effectuer des opérations pour inspecter et filtrer les données."
            ]
        },
        {
            "cell_type": "markdown",
            "metadata": {
                "id": "9WDl9QJ0XtOr"
            },
            "source": [
                "# **Anatomy of a DataFrame**"
            ]
        },
        {
            "attachments": {},
            "cell_type": "markdown",
            "metadata": {
                "id": "AnHwMUi5XwHg"
            },
            "source": [
                "![image](https://user-images.githubusercontent.com/123748165/226333609-b31f6d91-580d-460e-9001-4535664ddfe9.png)"
            ]
        },
        {
            "cell_type": "markdown",
            "metadata": {
                "id": "zBFZU2QRYdbG"
            },
            "source": [
                "- Un DataFrame est composé d'une ou plusieurs Series. Les noms des séries forment les noms des colonnes et les étiquettes des lignes forment l'index."
            ]
        },
        {
            "cell_type": "code",
            "execution_count": 6,
            "metadata": {
                "colab": {
                    "base_uri": "https://localhost:8080/",
                    "height": 206
                },
                "id": "dkE-_QsSW5ql",
                "outputId": "bb899fc3-3e75-4726-b893-59de6d545eea"
            },
            "outputs": [
                {
                    "data": {
                        "text/html": [
                            "<div>\n",
                            "<style scoped>\n",
                            "    .dataframe tbody tr th:only-of-type {\n",
                            "        vertical-align: middle;\n",
                            "    }\n",
                            "\n",
                            "    .dataframe tbody tr th {\n",
                            "        vertical-align: top;\n",
                            "    }\n",
                            "\n",
                            "    .dataframe thead th {\n",
                            "        text-align: right;\n",
                            "    }\n",
                            "</style>\n",
                            "<table border=\"1\" class=\"dataframe\">\n",
                            "  <thead>\n",
                            "    <tr style=\"text-align: right;\">\n",
                            "      <th></th>\n",
                            "      <th>name</th>\n",
                            "      <th>id</th>\n",
                            "      <th>nametype</th>\n",
                            "      <th>recclass</th>\n",
                            "      <th>mass (g)</th>\n",
                            "      <th>fall</th>\n",
                            "      <th>year</th>\n",
                            "      <th>reclat</th>\n",
                            "      <th>reclong</th>\n",
                            "      <th>GeoLocation</th>\n",
                            "    </tr>\n",
                            "  </thead>\n",
                            "  <tbody>\n",
                            "    <tr>\n",
                            "      <th>0</th>\n",
                            "      <td>Aachen</td>\n",
                            "      <td>1</td>\n",
                            "      <td>Valid</td>\n",
                            "      <td>L5</td>\n",
                            "      <td>21</td>\n",
                            "      <td>Fell</td>\n",
                            "      <td>01/01/1880 12:00:00 AM</td>\n",
                            "      <td>50.77500</td>\n",
                            "      <td>6.08333</td>\n",
                            "      <td>(50.775, 6.08333)</td>\n",
                            "    </tr>\n",
                            "    <tr>\n",
                            "      <th>1</th>\n",
                            "      <td>Aarhus</td>\n",
                            "      <td>2</td>\n",
                            "      <td>Valid</td>\n",
                            "      <td>H6</td>\n",
                            "      <td>720</td>\n",
                            "      <td>Fell</td>\n",
                            "      <td>01/01/1951 12:00:00 AM</td>\n",
                            "      <td>56.18333</td>\n",
                            "      <td>10.23333</td>\n",
                            "      <td>(56.18333, 10.23333)</td>\n",
                            "    </tr>\n",
                            "    <tr>\n",
                            "      <th>2</th>\n",
                            "      <td>Abee</td>\n",
                            "      <td>6</td>\n",
                            "      <td>Valid</td>\n",
                            "      <td>EH4</td>\n",
                            "      <td>107000</td>\n",
                            "      <td>Fell</td>\n",
                            "      <td>01/01/1952 12:00:00 AM</td>\n",
                            "      <td>54.21667</td>\n",
                            "      <td>-113.00000</td>\n",
                            "      <td>(54.21667, -113.0)</td>\n",
                            "    </tr>\n",
                            "    <tr>\n",
                            "      <th>3</th>\n",
                            "      <td>Acapulco</td>\n",
                            "      <td>10</td>\n",
                            "      <td>Valid</td>\n",
                            "      <td>Acapulcoite</td>\n",
                            "      <td>1914</td>\n",
                            "      <td>Fell</td>\n",
                            "      <td>01/01/1976 12:00:00 AM</td>\n",
                            "      <td>16.88333</td>\n",
                            "      <td>-99.90000</td>\n",
                            "      <td>(16.88333, -99.9)</td>\n",
                            "    </tr>\n",
                            "    <tr>\n",
                            "      <th>4</th>\n",
                            "      <td>Achiras</td>\n",
                            "      <td>370</td>\n",
                            "      <td>Valid</td>\n",
                            "      <td>L6</td>\n",
                            "      <td>780</td>\n",
                            "      <td>Fell</td>\n",
                            "      <td>01/01/1902 12:00:00 AM</td>\n",
                            "      <td>-33.16667</td>\n",
                            "      <td>-64.95000</td>\n",
                            "      <td>(-33.16667, -64.95)</td>\n",
                            "    </tr>\n",
                            "  </tbody>\n",
                            "</table>\n",
                            "</div>"
                        ],
                        "text/plain": [
                            "       name   id nametype     recclass  mass (g)  fall  \\\n",
                            "0    Aachen    1    Valid           L5        21  Fell   \n",
                            "1    Aarhus    2    Valid           H6       720  Fell   \n",
                            "2      Abee    6    Valid          EH4    107000  Fell   \n",
                            "3  Acapulco   10    Valid  Acapulcoite      1914  Fell   \n",
                            "4   Achiras  370    Valid           L6       780  Fell   \n",
                            "\n",
                            "                     year    reclat    reclong           GeoLocation  \n",
                            "0  01/01/1880 12:00:00 AM  50.77500    6.08333     (50.775, 6.08333)  \n",
                            "1  01/01/1951 12:00:00 AM  56.18333   10.23333  (56.18333, 10.23333)  \n",
                            "2  01/01/1952 12:00:00 AM  54.21667 -113.00000    (54.21667, -113.0)  \n",
                            "3  01/01/1976 12:00:00 AM  16.88333  -99.90000     (16.88333, -99.9)  \n",
                            "4  01/01/1902 12:00:00 AM -33.16667  -64.95000   (-33.16667, -64.95)  "
                        ]
                    },
                    "execution_count": 6,
                    "metadata": {},
                    "output_type": "execute_result"
                }
            ],
            "source": [
                "import pandas as pd\n",
                "\n",
                "meteorites = pd.read_csv('/workspaces/Data-prep/data/Meteorite_Landings.csv', nrows=5)\n",
                "meteorites"
            ]
        },
        {
            "cell_type": "markdown",
            "metadata": {
                "id": "uqLdQP-fbOJL"
            },
            "source": [
                "**Series**"
            ]
        },
        {
            "cell_type": "code",
            "execution_count": 7,
            "metadata": {
                "colab": {
                    "base_uri": "https://localhost:8080/"
                },
                "id": "4cvHBjcUbNY0",
                "outputId": "1d28c584-0d92-48ee-f76a-422844eb9ce9"
            },
            "outputs": [
                {
                    "data": {
                        "text/plain": [
                            "0      Aachen\n",
                            "1      Aarhus\n",
                            "2        Abee\n",
                            "3    Acapulco\n",
                            "4     Achiras\n",
                            "Name: name, dtype: object"
                        ]
                    },
                    "execution_count": 7,
                    "metadata": {},
                    "output_type": "execute_result"
                }
            ],
            "source": [
                "meteorites.name"
            ]
        },
        {
            "cell_type": "markdown",
            "metadata": {
                "id": "M_FL-sqebSfF"
            },
            "source": [
                "**Columns:**"
            ]
        },
        {
            "cell_type": "code",
            "execution_count": 8,
            "metadata": {
                "colab": {
                    "base_uri": "https://localhost:8080/"
                },
                "id": "kUzGEcS-bT2k",
                "outputId": "46ad68c2-3911-4b32-aaed-18aa745d497c"
            },
            "outputs": [
                {
                    "data": {
                        "text/plain": [
                            "Index(['name', 'id', 'nametype', 'recclass', 'mass (g)', 'fall', 'year',\n",
                            "       'reclat', 'reclong', 'GeoLocation'],\n",
                            "      dtype='object')"
                        ]
                    },
                    "execution_count": 8,
                    "metadata": {},
                    "output_type": "execute_result"
                }
            ],
            "source": [
                "meteorites.columns"
            ]
        },
        {
            "cell_type": "markdown",
            "metadata": {
                "id": "Ux8IAM4vbYAz"
            },
            "source": [
                "**Index:**"
            ]
        },
        {
            "cell_type": "code",
            "execution_count": 9,
            "metadata": {
                "colab": {
                    "base_uri": "https://localhost:8080/"
                },
                "id": "vYfmKY8abZrd",
                "outputId": "1e114dbe-19fa-4dbb-828f-21cd75ff5261"
            },
            "outputs": [
                {
                    "data": {
                        "text/plain": [
                            "RangeIndex(start=0, stop=5, step=1)"
                        ]
                    },
                    "execution_count": 9,
                    "metadata": {},
                    "output_type": "execute_result"
                }
            ],
            "source": [
                "meteorites.index"
            ]
        },
        {
            "cell_type": "markdown",
            "metadata": {
                "id": "4WbB1hW1bfTN"
            },
            "source": [
                "**Creating DataFrames**\n",
                "- We can create DataFrames from a variety of sources such as other Python objects, flat files, webscraping, and API requests.\n",
                "- Here, we will see just a couple of examples, but be sure to check out this page in the documentation for a complete list."
            ]
        },
        {
            "cell_type": "markdown",
            "metadata": {
                "id": "8PgfoVy_bsyn"
            },
            "source": [
                "**Using a flat file**"
            ]
        },
        {
            "cell_type": "code",
            "execution_count": null,
            "metadata": {
                "id": "VuWR_0iZblUZ"
            },
            "outputs": [],
            "source": [
                "import pandas as pd\n",
                "\n",
                "meteorites = pd.read_csv('/content/Meteorite_Landings.csv')"
            ]
        },
        {
            "cell_type": "markdown",
            "metadata": {
                "id": "PeYriQ1Ub46_"
            },
            "source": [
                "**Using data from an API**\n",
                "- Collect the data from NASA's Open Data Portal using the Socrata Open Data API (SODA) with the requests library:"
            ]
        },
        {
            "cell_type": "code",
            "execution_count": 2,
            "metadata": {
                "id": "lEdRyIDib8Ug"
            },
            "outputs": [],
            "source": [
                "import requests\n",
                "\n",
                "response = requests.get(\n",
                "    'https://data.nasa.gov/resource/gh4g-9sfh.json',\n",
                "    params={'$limit': 50_000}\n",
                ")\n",
                "\n",
                "if response.ok:\n",
                "    payload = response.json()\n",
                "else:\n",
                "    print(f'Request was not successful and returned code: {response.status_code}.')\n",
                "    payload = None"
            ]
        },
        {
            "cell_type": "code",
            "execution_count": 10,
            "metadata": {
                "colab": {
                    "base_uri": "https://localhost:8080/",
                    "height": 143
                },
                "id": "bBqdFSTIcD6U",
                "outputId": "dc21dcc1-150b-4efe-b864-bf8266397e9c"
            },
            "outputs": [
                {
                    "data": {
                        "text/html": [
                            "<div>\n",
                            "<style scoped>\n",
                            "    .dataframe tbody tr th:only-of-type {\n",
                            "        vertical-align: middle;\n",
                            "    }\n",
                            "\n",
                            "    .dataframe tbody tr th {\n",
                            "        vertical-align: top;\n",
                            "    }\n",
                            "\n",
                            "    .dataframe thead th {\n",
                            "        text-align: right;\n",
                            "    }\n",
                            "</style>\n",
                            "<table border=\"1\" class=\"dataframe\">\n",
                            "  <thead>\n",
                            "    <tr style=\"text-align: right;\">\n",
                            "      <th></th>\n",
                            "      <th>name</th>\n",
                            "      <th>id</th>\n",
                            "      <th>nametype</th>\n",
                            "      <th>recclass</th>\n",
                            "      <th>mass</th>\n",
                            "      <th>fall</th>\n",
                            "      <th>year</th>\n",
                            "      <th>reclat</th>\n",
                            "      <th>reclong</th>\n",
                            "      <th>geolocation</th>\n",
                            "      <th>:@computed_region_cbhk_fwbd</th>\n",
                            "      <th>:@computed_region_nnqa_25f4</th>\n",
                            "    </tr>\n",
                            "  </thead>\n",
                            "  <tbody>\n",
                            "    <tr>\n",
                            "      <th>0</th>\n",
                            "      <td>Aachen</td>\n",
                            "      <td>1</td>\n",
                            "      <td>Valid</td>\n",
                            "      <td>L5</td>\n",
                            "      <td>21</td>\n",
                            "      <td>Fell</td>\n",
                            "      <td>1880-01-01T00:00:00.000</td>\n",
                            "      <td>50.775000</td>\n",
                            "      <td>6.083330</td>\n",
                            "      <td>{'latitude': '50.775', 'longitude': '6.08333'}</td>\n",
                            "      <td>NaN</td>\n",
                            "      <td>NaN</td>\n",
                            "    </tr>\n",
                            "    <tr>\n",
                            "      <th>1</th>\n",
                            "      <td>Aarhus</td>\n",
                            "      <td>2</td>\n",
                            "      <td>Valid</td>\n",
                            "      <td>H6</td>\n",
                            "      <td>720</td>\n",
                            "      <td>Fell</td>\n",
                            "      <td>1951-01-01T00:00:00.000</td>\n",
                            "      <td>56.183330</td>\n",
                            "      <td>10.233330</td>\n",
                            "      <td>{'latitude': '56.18333', 'longitude': '10.23333'}</td>\n",
                            "      <td>NaN</td>\n",
                            "      <td>NaN</td>\n",
                            "    </tr>\n",
                            "    <tr>\n",
                            "      <th>2</th>\n",
                            "      <td>Abee</td>\n",
                            "      <td>6</td>\n",
                            "      <td>Valid</td>\n",
                            "      <td>EH4</td>\n",
                            "      <td>107000</td>\n",
                            "      <td>Fell</td>\n",
                            "      <td>1952-01-01T00:00:00.000</td>\n",
                            "      <td>54.216670</td>\n",
                            "      <td>-113.000000</td>\n",
                            "      <td>{'latitude': '54.21667', 'longitude': '-113.0'}</td>\n",
                            "      <td>NaN</td>\n",
                            "      <td>NaN</td>\n",
                            "    </tr>\n",
                            "  </tbody>\n",
                            "</table>\n",
                            "</div>"
                        ],
                        "text/plain": [
                            "     name id nametype recclass    mass  fall                     year  \\\n",
                            "0  Aachen  1    Valid       L5      21  Fell  1880-01-01T00:00:00.000   \n",
                            "1  Aarhus  2    Valid       H6     720  Fell  1951-01-01T00:00:00.000   \n",
                            "2    Abee  6    Valid      EH4  107000  Fell  1952-01-01T00:00:00.000   \n",
                            "\n",
                            "      reclat      reclong                                        geolocation  \\\n",
                            "0  50.775000     6.083330     {'latitude': '50.775', 'longitude': '6.08333'}   \n",
                            "1  56.183330    10.233330  {'latitude': '56.18333', 'longitude': '10.23333'}   \n",
                            "2  54.216670  -113.000000    {'latitude': '54.21667', 'longitude': '-113.0'}   \n",
                            "\n",
                            "  :@computed_region_cbhk_fwbd :@computed_region_nnqa_25f4  \n",
                            "0                         NaN                         NaN  \n",
                            "1                         NaN                         NaN  \n",
                            "2                         NaN                         NaN  "
                        ]
                    },
                    "execution_count": 10,
                    "metadata": {},
                    "output_type": "execute_result"
                }
            ],
            "source": [
                "df = pd.DataFrame(payload)\n",
                "df.head(3)"
            ]
        },
        {
            "cell_type": "markdown",
            "metadata": {
                "id": "MzgfUvJJcL4g"
            },
            "source": [
                "**Inspecting the data**\n",
                "- Now that we have some data, we need to perform an initial inspection of it. \n",
                "- This gives us information on what the data looks like, how many rows/columns there are, and how much data we have.\n",
                "\n",
                "- Let's inspect the meteorites data."
            ]
        },
        {
            "cell_type": "markdown",
            "metadata": {
                "id": "44p7ZHLfcr4N"
            },
            "source": [
                "**How many rows and columns are there?**"
            ]
        },
        {
            "cell_type": "code",
            "execution_count": 11,
            "metadata": {
                "colab": {
                    "base_uri": "https://localhost:8080/"
                },
                "id": "4-sSf6ShcSoz",
                "outputId": "0c5cf9b4-f0f4-4ffe-d559-2349d09cdf00"
            },
            "outputs": [
                {
                    "data": {
                        "text/plain": [
                            "(5, 10)"
                        ]
                    },
                    "execution_count": 11,
                    "metadata": {},
                    "output_type": "execute_result"
                }
            ],
            "source": [
                "meteorites.shape"
            ]
        },
        {
            "cell_type": "markdown",
            "metadata": {
                "id": "TeG1eAkqdnLG"
            },
            "source": [
                "**What are the column names?**"
            ]
        },
        {
            "cell_type": "code",
            "execution_count": 12,
            "metadata": {
                "colab": {
                    "base_uri": "https://localhost:8080/"
                },
                "id": "UP0me_ZldqI9",
                "outputId": "4205eb69-a27d-416e-ae97-76aff6df4d17"
            },
            "outputs": [
                {
                    "data": {
                        "text/plain": [
                            "Index(['name', 'id', 'nametype', 'recclass', 'mass (g)', 'fall', 'year',\n",
                            "       'reclat', 'reclong', 'GeoLocation'],\n",
                            "      dtype='object')"
                        ]
                    },
                    "execution_count": 12,
                    "metadata": {},
                    "output_type": "execute_result"
                }
            ],
            "source": [
                "meteorites.columns"
            ]
        },
        {
            "cell_type": "markdown",
            "metadata": {
                "id": "VErpOrZsduRx"
            },
            "source": [
                "**What type of data does each column currently hold?**"
            ]
        },
        {
            "cell_type": "code",
            "execution_count": 13,
            "metadata": {
                "colab": {
                    "base_uri": "https://localhost:8080/"
                },
                "id": "YiTb9OvhdwD0",
                "outputId": "ad0467c6-6094-4b0c-bc98-c19f8b52f77c"
            },
            "outputs": [
                {
                    "data": {
                        "text/plain": [
                            "name            object\n",
                            "id               int64\n",
                            "nametype        object\n",
                            "recclass        object\n",
                            "mass (g)         int64\n",
                            "fall            object\n",
                            "year            object\n",
                            "reclat         float64\n",
                            "reclong        float64\n",
                            "GeoLocation     object\n",
                            "dtype: object"
                        ]
                    },
                    "execution_count": 13,
                    "metadata": {},
                    "output_type": "execute_result"
                }
            ],
            "source": [
                "meteorites.dtypes"
            ]
        },
        {
            "cell_type": "markdown",
            "metadata": {
                "id": "qmLQ-yJ0d3VX"
            },
            "source": [
                "**What does the data look like?**"
            ]
        },
        {
            "cell_type": "code",
            "execution_count": 14,
            "metadata": {
                "colab": {
                    "base_uri": "https://localhost:8080/",
                    "height": 206
                },
                "id": "Lcgxv-_yd44z",
                "outputId": "d8d46569-e19a-47b1-f4d8-3ab765d60f0f"
            },
            "outputs": [
                {
                    "data": {
                        "text/html": [
                            "<div>\n",
                            "<style scoped>\n",
                            "    .dataframe tbody tr th:only-of-type {\n",
                            "        vertical-align: middle;\n",
                            "    }\n",
                            "\n",
                            "    .dataframe tbody tr th {\n",
                            "        vertical-align: top;\n",
                            "    }\n",
                            "\n",
                            "    .dataframe thead th {\n",
                            "        text-align: right;\n",
                            "    }\n",
                            "</style>\n",
                            "<table border=\"1\" class=\"dataframe\">\n",
                            "  <thead>\n",
                            "    <tr style=\"text-align: right;\">\n",
                            "      <th></th>\n",
                            "      <th>name</th>\n",
                            "      <th>id</th>\n",
                            "      <th>nametype</th>\n",
                            "      <th>recclass</th>\n",
                            "      <th>mass (g)</th>\n",
                            "      <th>fall</th>\n",
                            "      <th>year</th>\n",
                            "      <th>reclat</th>\n",
                            "      <th>reclong</th>\n",
                            "      <th>GeoLocation</th>\n",
                            "    </tr>\n",
                            "  </thead>\n",
                            "  <tbody>\n",
                            "    <tr>\n",
                            "      <th>0</th>\n",
                            "      <td>Aachen</td>\n",
                            "      <td>1</td>\n",
                            "      <td>Valid</td>\n",
                            "      <td>L5</td>\n",
                            "      <td>21</td>\n",
                            "      <td>Fell</td>\n",
                            "      <td>01/01/1880 12:00:00 AM</td>\n",
                            "      <td>50.77500</td>\n",
                            "      <td>6.08333</td>\n",
                            "      <td>(50.775, 6.08333)</td>\n",
                            "    </tr>\n",
                            "    <tr>\n",
                            "      <th>1</th>\n",
                            "      <td>Aarhus</td>\n",
                            "      <td>2</td>\n",
                            "      <td>Valid</td>\n",
                            "      <td>H6</td>\n",
                            "      <td>720</td>\n",
                            "      <td>Fell</td>\n",
                            "      <td>01/01/1951 12:00:00 AM</td>\n",
                            "      <td>56.18333</td>\n",
                            "      <td>10.23333</td>\n",
                            "      <td>(56.18333, 10.23333)</td>\n",
                            "    </tr>\n",
                            "    <tr>\n",
                            "      <th>2</th>\n",
                            "      <td>Abee</td>\n",
                            "      <td>6</td>\n",
                            "      <td>Valid</td>\n",
                            "      <td>EH4</td>\n",
                            "      <td>107000</td>\n",
                            "      <td>Fell</td>\n",
                            "      <td>01/01/1952 12:00:00 AM</td>\n",
                            "      <td>54.21667</td>\n",
                            "      <td>-113.00000</td>\n",
                            "      <td>(54.21667, -113.0)</td>\n",
                            "    </tr>\n",
                            "    <tr>\n",
                            "      <th>3</th>\n",
                            "      <td>Acapulco</td>\n",
                            "      <td>10</td>\n",
                            "      <td>Valid</td>\n",
                            "      <td>Acapulcoite</td>\n",
                            "      <td>1914</td>\n",
                            "      <td>Fell</td>\n",
                            "      <td>01/01/1976 12:00:00 AM</td>\n",
                            "      <td>16.88333</td>\n",
                            "      <td>-99.90000</td>\n",
                            "      <td>(16.88333, -99.9)</td>\n",
                            "    </tr>\n",
                            "    <tr>\n",
                            "      <th>4</th>\n",
                            "      <td>Achiras</td>\n",
                            "      <td>370</td>\n",
                            "      <td>Valid</td>\n",
                            "      <td>L6</td>\n",
                            "      <td>780</td>\n",
                            "      <td>Fell</td>\n",
                            "      <td>01/01/1902 12:00:00 AM</td>\n",
                            "      <td>-33.16667</td>\n",
                            "      <td>-64.95000</td>\n",
                            "      <td>(-33.16667, -64.95)</td>\n",
                            "    </tr>\n",
                            "  </tbody>\n",
                            "</table>\n",
                            "</div>"
                        ],
                        "text/plain": [
                            "       name   id nametype     recclass  mass (g)  fall  \\\n",
                            "0    Aachen    1    Valid           L5        21  Fell   \n",
                            "1    Aarhus    2    Valid           H6       720  Fell   \n",
                            "2      Abee    6    Valid          EH4    107000  Fell   \n",
                            "3  Acapulco   10    Valid  Acapulcoite      1914  Fell   \n",
                            "4   Achiras  370    Valid           L6       780  Fell   \n",
                            "\n",
                            "                     year    reclat    reclong           GeoLocation  \n",
                            "0  01/01/1880 12:00:00 AM  50.77500    6.08333     (50.775, 6.08333)  \n",
                            "1  01/01/1951 12:00:00 AM  56.18333   10.23333  (56.18333, 10.23333)  \n",
                            "2  01/01/1952 12:00:00 AM  54.21667 -113.00000    (54.21667, -113.0)  \n",
                            "3  01/01/1976 12:00:00 AM  16.88333  -99.90000     (16.88333, -99.9)  \n",
                            "4  01/01/1902 12:00:00 AM -33.16667  -64.95000   (-33.16667, -64.95)  "
                        ]
                    },
                    "execution_count": 14,
                    "metadata": {},
                    "output_type": "execute_result"
                }
            ],
            "source": [
                "meteorites.head()"
            ]
        },
        {
            "cell_type": "markdown",
            "metadata": {
                "id": "3okPnNbNeNvF"
            },
            "source": [
                "- Sometimes there may be extraneous data at the end of the file, so checking the bottom few rows is also important:"
            ]
        },
        {
            "cell_type": "code",
            "execution_count": 15,
            "metadata": {
                "colab": {
                    "base_uri": "https://localhost:8080/",
                    "height": 206
                },
                "id": "bHbcF_9veP3C",
                "outputId": "a6cec027-c7ac-4f08-9bda-37cc096feabc"
            },
            "outputs": [
                {
                    "data": {
                        "text/html": [
                            "<div>\n",
                            "<style scoped>\n",
                            "    .dataframe tbody tr th:only-of-type {\n",
                            "        vertical-align: middle;\n",
                            "    }\n",
                            "\n",
                            "    .dataframe tbody tr th {\n",
                            "        vertical-align: top;\n",
                            "    }\n",
                            "\n",
                            "    .dataframe thead th {\n",
                            "        text-align: right;\n",
                            "    }\n",
                            "</style>\n",
                            "<table border=\"1\" class=\"dataframe\">\n",
                            "  <thead>\n",
                            "    <tr style=\"text-align: right;\">\n",
                            "      <th></th>\n",
                            "      <th>name</th>\n",
                            "      <th>id</th>\n",
                            "      <th>nametype</th>\n",
                            "      <th>recclass</th>\n",
                            "      <th>mass (g)</th>\n",
                            "      <th>fall</th>\n",
                            "      <th>year</th>\n",
                            "      <th>reclat</th>\n",
                            "      <th>reclong</th>\n",
                            "      <th>GeoLocation</th>\n",
                            "    </tr>\n",
                            "  </thead>\n",
                            "  <tbody>\n",
                            "    <tr>\n",
                            "      <th>0</th>\n",
                            "      <td>Aachen</td>\n",
                            "      <td>1</td>\n",
                            "      <td>Valid</td>\n",
                            "      <td>L5</td>\n",
                            "      <td>21</td>\n",
                            "      <td>Fell</td>\n",
                            "      <td>01/01/1880 12:00:00 AM</td>\n",
                            "      <td>50.77500</td>\n",
                            "      <td>6.08333</td>\n",
                            "      <td>(50.775, 6.08333)</td>\n",
                            "    </tr>\n",
                            "    <tr>\n",
                            "      <th>1</th>\n",
                            "      <td>Aarhus</td>\n",
                            "      <td>2</td>\n",
                            "      <td>Valid</td>\n",
                            "      <td>H6</td>\n",
                            "      <td>720</td>\n",
                            "      <td>Fell</td>\n",
                            "      <td>01/01/1951 12:00:00 AM</td>\n",
                            "      <td>56.18333</td>\n",
                            "      <td>10.23333</td>\n",
                            "      <td>(56.18333, 10.23333)</td>\n",
                            "    </tr>\n",
                            "    <tr>\n",
                            "      <th>2</th>\n",
                            "      <td>Abee</td>\n",
                            "      <td>6</td>\n",
                            "      <td>Valid</td>\n",
                            "      <td>EH4</td>\n",
                            "      <td>107000</td>\n",
                            "      <td>Fell</td>\n",
                            "      <td>01/01/1952 12:00:00 AM</td>\n",
                            "      <td>54.21667</td>\n",
                            "      <td>-113.00000</td>\n",
                            "      <td>(54.21667, -113.0)</td>\n",
                            "    </tr>\n",
                            "    <tr>\n",
                            "      <th>3</th>\n",
                            "      <td>Acapulco</td>\n",
                            "      <td>10</td>\n",
                            "      <td>Valid</td>\n",
                            "      <td>Acapulcoite</td>\n",
                            "      <td>1914</td>\n",
                            "      <td>Fell</td>\n",
                            "      <td>01/01/1976 12:00:00 AM</td>\n",
                            "      <td>16.88333</td>\n",
                            "      <td>-99.90000</td>\n",
                            "      <td>(16.88333, -99.9)</td>\n",
                            "    </tr>\n",
                            "    <tr>\n",
                            "      <th>4</th>\n",
                            "      <td>Achiras</td>\n",
                            "      <td>370</td>\n",
                            "      <td>Valid</td>\n",
                            "      <td>L6</td>\n",
                            "      <td>780</td>\n",
                            "      <td>Fell</td>\n",
                            "      <td>01/01/1902 12:00:00 AM</td>\n",
                            "      <td>-33.16667</td>\n",
                            "      <td>-64.95000</td>\n",
                            "      <td>(-33.16667, -64.95)</td>\n",
                            "    </tr>\n",
                            "  </tbody>\n",
                            "</table>\n",
                            "</div>"
                        ],
                        "text/plain": [
                            "       name   id nametype     recclass  mass (g)  fall  \\\n",
                            "0    Aachen    1    Valid           L5        21  Fell   \n",
                            "1    Aarhus    2    Valid           H6       720  Fell   \n",
                            "2      Abee    6    Valid          EH4    107000  Fell   \n",
                            "3  Acapulco   10    Valid  Acapulcoite      1914  Fell   \n",
                            "4   Achiras  370    Valid           L6       780  Fell   \n",
                            "\n",
                            "                     year    reclat    reclong           GeoLocation  \n",
                            "0  01/01/1880 12:00:00 AM  50.77500    6.08333     (50.775, 6.08333)  \n",
                            "1  01/01/1951 12:00:00 AM  56.18333   10.23333  (56.18333, 10.23333)  \n",
                            "2  01/01/1952 12:00:00 AM  54.21667 -113.00000    (54.21667, -113.0)  \n",
                            "3  01/01/1976 12:00:00 AM  16.88333  -99.90000     (16.88333, -99.9)  \n",
                            "4  01/01/1902 12:00:00 AM -33.16667  -64.95000   (-33.16667, -64.95)  "
                        ]
                    },
                    "execution_count": 15,
                    "metadata": {},
                    "output_type": "execute_result"
                }
            ],
            "source": [
                "meteorites.tail()"
            ]
        },
        {
            "cell_type": "markdown",
            "metadata": {
                "id": "KeTKXLcueVAv"
            },
            "source": [
                "**Get some information about the DataFrame**"
            ]
        },
        {
            "cell_type": "code",
            "execution_count": 16,
            "metadata": {
                "colab": {
                    "base_uri": "https://localhost:8080/"
                },
                "id": "mB2HPwyYefj5",
                "outputId": "a23e72df-5098-41bd-df0c-fabe6afb1e5d"
            },
            "outputs": [
                {
                    "name": "stdout",
                    "output_type": "stream",
                    "text": [
                        "<class 'pandas.core.frame.DataFrame'>\n",
                        "RangeIndex: 5 entries, 0 to 4\n",
                        "Data columns (total 10 columns):\n",
                        " #   Column       Non-Null Count  Dtype  \n",
                        "---  ------       --------------  -----  \n",
                        " 0   name         5 non-null      object \n",
                        " 1   id           5 non-null      int64  \n",
                        " 2   nametype     5 non-null      object \n",
                        " 3   recclass     5 non-null      object \n",
                        " 4   mass (g)     5 non-null      int64  \n",
                        " 5   fall         5 non-null      object \n",
                        " 6   year         5 non-null      object \n",
                        " 7   reclat       5 non-null      float64\n",
                        " 8   reclong      5 non-null      float64\n",
                        " 9   GeoLocation  5 non-null      object \n",
                        "dtypes: float64(2), int64(2), object(6)\n",
                        "memory usage: 532.0+ bytes\n"
                    ]
                }
            ],
            "source": [
                "meteorites.info()"
            ]
        },
        {
            "cell_type": "markdown",
            "metadata": {
                "id": "_gjBX6uyelWV"
            },
            "source": [
                "**Exercise 1.1**\n",
                "- Create a DataFrame by reading in the 2019_Yellow_Taxi_Trip_Data.csv file.\n",
                "- Examine the first 5 rows."
            ]
        },
        {
            "cell_type": "code",
            "execution_count": null,
            "metadata": {
                "id": "5tjPKNEDeqtE"
            },
            "outputs": [],
            "source": [
                "meteorites = pd.read_csv('/content/Yellow_Taxi.csv', nrows=5)\n",
                "meteorites.head(5)\n",
                "    "
            ]
        },
        {
            "cell_type": "markdown",
            "metadata": {
                "id": "wXNTtdxee0AZ"
            },
            "source": [
                "**Exercise 1.2**\n",
                "- Find the dimensions (number of rows and number of columns) in the data."
            ]
        },
        {
            "cell_type": "code",
            "execution_count": null,
            "metadata": {
                "id": "r1CTwyFWe2Mw"
            },
            "outputs": [],
            "source": [
                "#solution\n",
                "shape"
            ]
        },
        {
            "cell_type": "markdown",
            "metadata": {
                "id": "DqK0BYQwfACT"
            },
            "source": [
                "# **Extracting subsets**\n",
                "- A crucial part of working with DataFrames is extracting subsets of the data: finding rows that meet a certain set of criteria, isolating columns/rows of interest, etc. \n",
                "- After narrowing down our data, we are closer to discovering insights. \n",
                "- This section will be the backbone of many analysis tasks."
            ]
        },
        {
            "cell_type": "markdown",
            "metadata": {
                "id": "HX1emqKcfkzb"
            },
            "source": [
                "**Selecting columns**\n",
                "- We can select columns as attributes if their names would be valid Python variables:"
            ]
        },
        {
            "cell_type": "code",
            "execution_count": 17,
            "metadata": {
                "colab": {
                    "base_uri": "https://localhost:8080/",
                    "height": 424
                },
                "id": "x9SxpcDZffbP",
                "outputId": "82efbb12-858e-44ad-bfee-efe001a871db"
            },
            "outputs": [
                {
                    "data": {
                        "text/html": [
                            "<div>\n",
                            "<style scoped>\n",
                            "    .dataframe tbody tr th:only-of-type {\n",
                            "        vertical-align: middle;\n",
                            "    }\n",
                            "\n",
                            "    .dataframe tbody tr th {\n",
                            "        vertical-align: top;\n",
                            "    }\n",
                            "\n",
                            "    .dataframe thead th {\n",
                            "        text-align: right;\n",
                            "    }\n",
                            "</style>\n",
                            "<table border=\"1\" class=\"dataframe\">\n",
                            "  <thead>\n",
                            "    <tr style=\"text-align: right;\">\n",
                            "      <th></th>\n",
                            "      <th>name</th>\n",
                            "      <th>mass (g)</th>\n",
                            "    </tr>\n",
                            "  </thead>\n",
                            "  <tbody>\n",
                            "    <tr>\n",
                            "      <th>0</th>\n",
                            "      <td>Aachen</td>\n",
                            "      <td>21</td>\n",
                            "    </tr>\n",
                            "    <tr>\n",
                            "      <th>1</th>\n",
                            "      <td>Aarhus</td>\n",
                            "      <td>720</td>\n",
                            "    </tr>\n",
                            "    <tr>\n",
                            "      <th>2</th>\n",
                            "      <td>Abee</td>\n",
                            "      <td>107000</td>\n",
                            "    </tr>\n",
                            "    <tr>\n",
                            "      <th>3</th>\n",
                            "      <td>Acapulco</td>\n",
                            "      <td>1914</td>\n",
                            "    </tr>\n",
                            "    <tr>\n",
                            "      <th>4</th>\n",
                            "      <td>Achiras</td>\n",
                            "      <td>780</td>\n",
                            "    </tr>\n",
                            "  </tbody>\n",
                            "</table>\n",
                            "</div>"
                        ],
                        "text/plain": [
                            "       name  mass (g)\n",
                            "0    Aachen        21\n",
                            "1    Aarhus       720\n",
                            "2      Abee    107000\n",
                            "3  Acapulco      1914\n",
                            "4   Achiras       780"
                        ]
                    },
                    "execution_count": 17,
                    "metadata": {},
                    "output_type": "execute_result"
                }
            ],
            "source": [
                "meteorites[['name', 'mass (g)']]"
            ]
        },
        {
            "cell_type": "markdown",
            "metadata": {
                "id": "zGjDiHjBgO7U"
            },
            "source": [
                "**Selecting rows**\n"
            ]
        },
        {
            "cell_type": "code",
            "execution_count": 18,
            "metadata": {
                "colab": {
                    "base_uri": "https://localhost:8080/",
                    "height": 175
                },
                "id": "nyi5TrnLgQhE",
                "outputId": "1c4a3aa8-b7fc-44b1-fd95-f3bde12a70f6"
            },
            "outputs": [
                {
                    "data": {
                        "text/html": [
                            "<div>\n",
                            "<style scoped>\n",
                            "    .dataframe tbody tr th:only-of-type {\n",
                            "        vertical-align: middle;\n",
                            "    }\n",
                            "\n",
                            "    .dataframe tbody tr th {\n",
                            "        vertical-align: top;\n",
                            "    }\n",
                            "\n",
                            "    .dataframe thead th {\n",
                            "        text-align: right;\n",
                            "    }\n",
                            "</style>\n",
                            "<table border=\"1\" class=\"dataframe\">\n",
                            "  <thead>\n",
                            "    <tr style=\"text-align: right;\">\n",
                            "      <th></th>\n",
                            "      <th>name</th>\n",
                            "      <th>id</th>\n",
                            "      <th>nametype</th>\n",
                            "      <th>recclass</th>\n",
                            "      <th>mass (g)</th>\n",
                            "      <th>fall</th>\n",
                            "      <th>year</th>\n",
                            "      <th>reclat</th>\n",
                            "      <th>reclong</th>\n",
                            "      <th>GeoLocation</th>\n",
                            "    </tr>\n",
                            "  </thead>\n",
                            "  <tbody>\n",
                            "  </tbody>\n",
                            "</table>\n",
                            "</div>"
                        ],
                        "text/plain": [
                            "Empty DataFrame\n",
                            "Columns: [name, id, nametype, recclass, mass (g), fall, year, reclat, reclong, GeoLocation]\n",
                            "Index: []"
                        ]
                    },
                    "execution_count": 18,
                    "metadata": {},
                    "output_type": "execute_result"
                }
            ],
            "source": [
                "meteorites[100:104]"
            ]
        },
        {
            "cell_type": "markdown",
            "metadata": {
                "id": "osXD-pwagizV"
            },
            "source": [
                "**Indexing**\n",
                "- We use iloc[] to select rows and columns by their position:"
            ]
        },
        {
            "cell_type": "code",
            "execution_count": 19,
            "metadata": {
                "colab": {
                    "base_uri": "https://localhost:8080/",
                    "height": 175
                },
                "id": "ZbZxkFIrgrx5",
                "outputId": "8027572c-5c76-4492-aade-9a903a9c85a6"
            },
            "outputs": [
                {
                    "data": {
                        "text/html": [
                            "<div>\n",
                            "<style scoped>\n",
                            "    .dataframe tbody tr th:only-of-type {\n",
                            "        vertical-align: middle;\n",
                            "    }\n",
                            "\n",
                            "    .dataframe tbody tr th {\n",
                            "        vertical-align: top;\n",
                            "    }\n",
                            "\n",
                            "    .dataframe thead th {\n",
                            "        text-align: right;\n",
                            "    }\n",
                            "</style>\n",
                            "<table border=\"1\" class=\"dataframe\">\n",
                            "  <thead>\n",
                            "    <tr style=\"text-align: right;\">\n",
                            "      <th></th>\n",
                            "      <th>name</th>\n",
                            "      <th>recclass</th>\n",
                            "      <th>mass (g)</th>\n",
                            "      <th>year</th>\n",
                            "    </tr>\n",
                            "  </thead>\n",
                            "  <tbody>\n",
                            "  </tbody>\n",
                            "</table>\n",
                            "</div>"
                        ],
                        "text/plain": [
                            "Empty DataFrame\n",
                            "Columns: [name, recclass, mass (g), year]\n",
                            "Index: []"
                        ]
                    },
                    "execution_count": 19,
                    "metadata": {},
                    "output_type": "execute_result"
                }
            ],
            "source": [
                "meteorites.iloc[100:104, [0, 3, 4, 6]]"
            ]
        },
        {
            "cell_type": "markdown",
            "metadata": {
                "id": "pmZuZYK4gv6T"
            },
            "source": [
                "**We use loc[] to select by name:**"
            ]
        },
        {
            "cell_type": "code",
            "execution_count": 20,
            "metadata": {
                "colab": {
                    "base_uri": "https://localhost:8080/",
                    "height": 206
                },
                "id": "7XTWF-iCgxun",
                "outputId": "1d10411c-27a2-4a1d-e985-0c5f4198ad1d"
            },
            "outputs": [
                {
                    "data": {
                        "text/html": [
                            "<div>\n",
                            "<style scoped>\n",
                            "    .dataframe tbody tr th:only-of-type {\n",
                            "        vertical-align: middle;\n",
                            "    }\n",
                            "\n",
                            "    .dataframe tbody tr th {\n",
                            "        vertical-align: top;\n",
                            "    }\n",
                            "\n",
                            "    .dataframe thead th {\n",
                            "        text-align: right;\n",
                            "    }\n",
                            "</style>\n",
                            "<table border=\"1\" class=\"dataframe\">\n",
                            "  <thead>\n",
                            "    <tr style=\"text-align: right;\">\n",
                            "      <th></th>\n",
                            "      <th>mass (g)</th>\n",
                            "      <th>fall</th>\n",
                            "      <th>year</th>\n",
                            "    </tr>\n",
                            "  </thead>\n",
                            "  <tbody>\n",
                            "  </tbody>\n",
                            "</table>\n",
                            "</div>"
                        ],
                        "text/plain": [
                            "Empty DataFrame\n",
                            "Columns: [mass (g), fall, year]\n",
                            "Index: []"
                        ]
                    },
                    "execution_count": 20,
                    "metadata": {},
                    "output_type": "execute_result"
                }
            ],
            "source": [
                "meteorites.loc[100:104, 'mass (g)':'year']"
            ]
        },
        {
            "cell_type": "markdown",
            "metadata": {
                "id": "9gSK5UJSg4rh"
            },
            "source": [
                "**Filtering with Boolean masks**\n",
                "- A Boolean mask is a array-like structure of Boolean values – it's a way to specify which rows/columns we want to select (True) and which we don't (False).\n",
                "\n",
                "- Here's an example of a Boolean mask for meteorites weighing more than 50 grams that were found on Earth (i.e., they were not observed falling):"
            ]
        },
        {
            "cell_type": "code",
            "execution_count": 22,
            "metadata": {},
            "outputs": [
                {
                    "data": {
                        "text/html": [
                            "<div>\n",
                            "<style scoped>\n",
                            "    .dataframe tbody tr th:only-of-type {\n",
                            "        vertical-align: middle;\n",
                            "    }\n",
                            "\n",
                            "    .dataframe tbody tr th {\n",
                            "        vertical-align: top;\n",
                            "    }\n",
                            "\n",
                            "    .dataframe thead th {\n",
                            "        text-align: right;\n",
                            "    }\n",
                            "</style>\n",
                            "<table border=\"1\" class=\"dataframe\">\n",
                            "  <thead>\n",
                            "    <tr style=\"text-align: right;\">\n",
                            "      <th></th>\n",
                            "      <th>fall</th>\n",
                            "    </tr>\n",
                            "  </thead>\n",
                            "  <tbody>\n",
                            "    <tr>\n",
                            "      <th>0</th>\n",
                            "      <td>Fell</td>\n",
                            "    </tr>\n",
                            "    <tr>\n",
                            "      <th>1</th>\n",
                            "      <td>Fell</td>\n",
                            "    </tr>\n",
                            "    <tr>\n",
                            "      <th>2</th>\n",
                            "      <td>Fell</td>\n",
                            "    </tr>\n",
                            "    <tr>\n",
                            "      <th>3</th>\n",
                            "      <td>Fell</td>\n",
                            "    </tr>\n",
                            "    <tr>\n",
                            "      <th>4</th>\n",
                            "      <td>Fell</td>\n",
                            "    </tr>\n",
                            "  </tbody>\n",
                            "</table>\n",
                            "</div>"
                        ],
                        "text/plain": [
                            "   fall\n",
                            "0  Fell\n",
                            "1  Fell\n",
                            "2  Fell\n",
                            "3  Fell\n",
                            "4  Fell"
                        ]
                    },
                    "execution_count": 22,
                    "metadata": {},
                    "output_type": "execute_result"
                }
            ],
            "source": [
                "meteorites[['fall']]"
            ]
        },
        {
            "cell_type": "code",
            "execution_count": 23,
            "metadata": {
                "colab": {
                    "base_uri": "https://localhost:8080/"
                },
                "id": "DREeyY28g-Al",
                "outputId": "19e442e3-7212-4715-e5bd-30772c34c8f5"
            },
            "outputs": [
                {
                    "data": {
                        "text/plain": [
                            "0    False\n",
                            "1     True\n",
                            "2     True\n",
                            "3     True\n",
                            "4     True\n",
                            "dtype: bool"
                        ]
                    },
                    "execution_count": 23,
                    "metadata": {},
                    "output_type": "execute_result"
                }
            ],
            "source": [
                "(meteorites['mass (g)'] > 50) & (meteorites.fall == 'Fell')"
            ]
        },
        {
            "cell_type": "markdown",
            "metadata": {
                "id": "vkF3SCfkhMLi"
            },
            "source": [
                "- **Important:**Take note of the syntax here. We surround each condition with parentheses, and we use bitwise operators (&, |, ~) instead of logical operators (and, or, not)."
            ]
        },
        {
            "cell_type": "markdown",
            "metadata": {
                "id": "g_Td3tj_hSR2"
            },
            "source": [
                "**Exercice 1.3 :**    \n",
                "-  use a Boolean mask to select the subset of meteorites weighing more than 1 million grams (1,000 kilograms or roughly 2,205 pounds) that were observed falling."
            ]
        },
        {
            "cell_type": "code",
            "execution_count": 24,
            "metadata": {
                "id": "n4szJQNRhQSj"
            },
            "outputs": [
                {
                    "data": {
                        "text/plain": [
                            "0    False\n",
                            "1    False\n",
                            "2    False\n",
                            "3    False\n",
                            "4    False\n",
                            "Name: mass (g), dtype: bool"
                        ]
                    },
                    "execution_count": 24,
                    "metadata": {},
                    "output_type": "execute_result"
                }
            ],
            "source": [
                "#solution\n",
                "\n",
                "(meteorites['mass (g)'] > 1000000)"
            ]
        },
        {
            "cell_type": "markdown",
            "metadata": {
                "id": "BSiupiM6hi4S"
            },
            "source": [
                "- An alternative to this is the query() method:"
            ]
        },
        {
            "cell_type": "code",
            "execution_count": null,
            "metadata": {
                "colab": {
                    "base_uri": "https://localhost:8080/",
                    "height": 206
                },
                "id": "e3UAwUk-hkmB",
                "outputId": "6d90819c-6758-462d-89e9-eb8ca8058496"
            },
            "outputs": [
                {
                    "data": {
                        "text/html": [
                            "\n",
                            "  <div id=\"df-4b46a3fd-8c92-45eb-b1d3-9e4effd55ab1\">\n",
                            "    <div class=\"colab-df-container\">\n",
                            "      <div>\n",
                            "<style scoped>\n",
                            "    .dataframe tbody tr th:only-of-type {\n",
                            "        vertical-align: middle;\n",
                            "    }\n",
                            "\n",
                            "    .dataframe tbody tr th {\n",
                            "        vertical-align: top;\n",
                            "    }\n",
                            "\n",
                            "    .dataframe thead th {\n",
                            "        text-align: right;\n",
                            "    }\n",
                            "</style>\n",
                            "<table border=\"1\" class=\"dataframe\">\n",
                            "  <thead>\n",
                            "    <tr style=\"text-align: right;\">\n",
                            "      <th></th>\n",
                            "      <th>name</th>\n",
                            "      <th>id</th>\n",
                            "      <th>nametype</th>\n",
                            "      <th>recclass</th>\n",
                            "      <th>mass (g)</th>\n",
                            "      <th>fall</th>\n",
                            "      <th>year</th>\n",
                            "      <th>reclat</th>\n",
                            "      <th>reclong</th>\n",
                            "      <th>GeoLocation</th>\n",
                            "    </tr>\n",
                            "  </thead>\n",
                            "  <tbody>\n",
                            "    <tr>\n",
                            "      <th>29</th>\n",
                            "      <td>Allende</td>\n",
                            "      <td>2278</td>\n",
                            "      <td>Valid</td>\n",
                            "      <td>CV3</td>\n",
                            "      <td>2000000.0</td>\n",
                            "      <td>Fell</td>\n",
                            "      <td>01/01/1969 12:00:00 AM</td>\n",
                            "      <td>26.96667</td>\n",
                            "      <td>-105.31667</td>\n",
                            "      <td>(26.96667, -105.31667)</td>\n",
                            "    </tr>\n",
                            "    <tr>\n",
                            "      <th>419</th>\n",
                            "      <td>Jilin</td>\n",
                            "      <td>12171</td>\n",
                            "      <td>Valid</td>\n",
                            "      <td>H5</td>\n",
                            "      <td>4000000.0</td>\n",
                            "      <td>Fell</td>\n",
                            "      <td>01/01/1976 12:00:00 AM</td>\n",
                            "      <td>44.05000</td>\n",
                            "      <td>126.16667</td>\n",
                            "      <td>(44.05, 126.16667)</td>\n",
                            "    </tr>\n",
                            "    <tr>\n",
                            "      <th>506</th>\n",
                            "      <td>Kunya-Urgench</td>\n",
                            "      <td>12379</td>\n",
                            "      <td>Valid</td>\n",
                            "      <td>H5</td>\n",
                            "      <td>1100000.0</td>\n",
                            "      <td>Fell</td>\n",
                            "      <td>01/01/1998 12:00:00 AM</td>\n",
                            "      <td>42.25000</td>\n",
                            "      <td>59.20000</td>\n",
                            "      <td>(42.25, 59.2)</td>\n",
                            "    </tr>\n",
                            "    <tr>\n",
                            "      <th>707</th>\n",
                            "      <td>Norton County</td>\n",
                            "      <td>17922</td>\n",
                            "      <td>Valid</td>\n",
                            "      <td>Aubrite</td>\n",
                            "      <td>1100000.0</td>\n",
                            "      <td>Fell</td>\n",
                            "      <td>01/01/1948 12:00:00 AM</td>\n",
                            "      <td>39.68333</td>\n",
                            "      <td>-99.86667</td>\n",
                            "      <td>(39.68333, -99.86667)</td>\n",
                            "    </tr>\n",
                            "    <tr>\n",
                            "      <th>920</th>\n",
                            "      <td>Sikhote-Alin</td>\n",
                            "      <td>23593</td>\n",
                            "      <td>Valid</td>\n",
                            "      <td>Iron, IIAB</td>\n",
                            "      <td>23000000.0</td>\n",
                            "      <td>Fell</td>\n",
                            "      <td>01/01/1947 12:00:00 AM</td>\n",
                            "      <td>46.16000</td>\n",
                            "      <td>134.65333</td>\n",
                            "      <td>(46.16, 134.65333)</td>\n",
                            "    </tr>\n",
                            "  </tbody>\n",
                            "</table>\n",
                            "</div>\n",
                            "      <button class=\"colab-df-convert\" onclick=\"convertToInteractive('df-4b46a3fd-8c92-45eb-b1d3-9e4effd55ab1')\"\n",
                            "              title=\"Convert this dataframe to an interactive table.\"\n",
                            "              style=\"display:none;\">\n",
                            "        \n",
                            "  <svg xmlns=\"http://www.w3.org/2000/svg\" height=\"24px\"viewBox=\"0 0 24 24\"\n",
                            "       width=\"24px\">\n",
                            "    <path d=\"M0 0h24v24H0V0z\" fill=\"none\"/>\n",
                            "    <path d=\"M18.56 5.44l.94 2.06.94-2.06 2.06-.94-2.06-.94-.94-2.06-.94 2.06-2.06.94zm-11 1L8.5 8.5l.94-2.06 2.06-.94-2.06-.94L8.5 2.5l-.94 2.06-2.06.94zm10 10l.94 2.06.94-2.06 2.06-.94-2.06-.94-.94-2.06-.94 2.06-2.06.94z\"/><path d=\"M17.41 7.96l-1.37-1.37c-.4-.4-.92-.59-1.43-.59-.52 0-1.04.2-1.43.59L10.3 9.45l-7.72 7.72c-.78.78-.78 2.05 0 2.83L4 21.41c.39.39.9.59 1.41.59.51 0 1.02-.2 1.41-.59l7.78-7.78 2.81-2.81c.8-.78.8-2.07 0-2.86zM5.41 20L4 18.59l7.72-7.72 1.47 1.35L5.41 20z\"/>\n",
                            "  </svg>\n",
                            "      </button>\n",
                            "      \n",
                            "  <style>\n",
                            "    .colab-df-container {\n",
                            "      display:flex;\n",
                            "      flex-wrap:wrap;\n",
                            "      gap: 12px;\n",
                            "    }\n",
                            "\n",
                            "    .colab-df-convert {\n",
                            "      background-color: #E8F0FE;\n",
                            "      border: none;\n",
                            "      border-radius: 50%;\n",
                            "      cursor: pointer;\n",
                            "      display: none;\n",
                            "      fill: #1967D2;\n",
                            "      height: 32px;\n",
                            "      padding: 0 0 0 0;\n",
                            "      width: 32px;\n",
                            "    }\n",
                            "\n",
                            "    .colab-df-convert:hover {\n",
                            "      background-color: #E2EBFA;\n",
                            "      box-shadow: 0px 1px 2px rgba(60, 64, 67, 0.3), 0px 1px 3px 1px rgba(60, 64, 67, 0.15);\n",
                            "      fill: #174EA6;\n",
                            "    }\n",
                            "\n",
                            "    [theme=dark] .colab-df-convert {\n",
                            "      background-color: #3B4455;\n",
                            "      fill: #D2E3FC;\n",
                            "    }\n",
                            "\n",
                            "    [theme=dark] .colab-df-convert:hover {\n",
                            "      background-color: #434B5C;\n",
                            "      box-shadow: 0px 1px 3px 1px rgba(0, 0, 0, 0.15);\n",
                            "      filter: drop-shadow(0px 1px 2px rgba(0, 0, 0, 0.3));\n",
                            "      fill: #FFFFFF;\n",
                            "    }\n",
                            "  </style>\n",
                            "\n",
                            "      <script>\n",
                            "        const buttonEl =\n",
                            "          document.querySelector('#df-4b46a3fd-8c92-45eb-b1d3-9e4effd55ab1 button.colab-df-convert');\n",
                            "        buttonEl.style.display =\n",
                            "          google.colab.kernel.accessAllowed ? 'block' : 'none';\n",
                            "\n",
                            "        async function convertToInteractive(key) {\n",
                            "          const element = document.querySelector('#df-4b46a3fd-8c92-45eb-b1d3-9e4effd55ab1');\n",
                            "          const dataTable =\n",
                            "            await google.colab.kernel.invokeFunction('convertToInteractive',\n",
                            "                                                     [key], {});\n",
                            "          if (!dataTable) return;\n",
                            "\n",
                            "          const docLinkHtml = 'Like what you see? Visit the ' +\n",
                            "            '<a target=\"_blank\" href=https://colab.research.google.com/notebooks/data_table.ipynb>data table notebook</a>'\n",
                            "            + ' to learn more about interactive tables.';\n",
                            "          element.innerHTML = '';\n",
                            "          dataTable['output_type'] = 'display_data';\n",
                            "          await google.colab.output.renderOutput(dataTable, element);\n",
                            "          const docLink = document.createElement('div');\n",
                            "          docLink.innerHTML = docLinkHtml;\n",
                            "          element.appendChild(docLink);\n",
                            "        }\n",
                            "      </script>\n",
                            "    </div>\n",
                            "  </div>\n",
                            "  "
                        ],
                        "text/plain": [
                            "              name     id nametype    recclass    mass (g)  fall  \\\n",
                            "29         Allende   2278    Valid         CV3   2000000.0  Fell   \n",
                            "419          Jilin  12171    Valid          H5   4000000.0  Fell   \n",
                            "506  Kunya-Urgench  12379    Valid          H5   1100000.0  Fell   \n",
                            "707  Norton County  17922    Valid     Aubrite   1100000.0  Fell   \n",
                            "920   Sikhote-Alin  23593    Valid  Iron, IIAB  23000000.0  Fell   \n",
                            "\n",
                            "                       year    reclat    reclong             GeoLocation  \n",
                            "29   01/01/1969 12:00:00 AM  26.96667 -105.31667  (26.96667, -105.31667)  \n",
                            "419  01/01/1976 12:00:00 AM  44.05000  126.16667      (44.05, 126.16667)  \n",
                            "506  01/01/1998 12:00:00 AM  42.25000   59.20000           (42.25, 59.2)  \n",
                            "707  01/01/1948 12:00:00 AM  39.68333  -99.86667   (39.68333, -99.86667)  \n",
                            "920  01/01/1947 12:00:00 AM  46.16000  134.65333      (46.16, 134.65333)  "
                        ]
                    },
                    "execution_count": 21,
                    "metadata": {},
                    "output_type": "execute_result"
                }
            ],
            "source": [
                "meteorites.query(\"`mass (g)` > 1e6 and fall == 'Fell'\")"
            ]
        }
    ],
    "metadata": {
        "kernelspec": {
            "display_name": "Python 3",
            "name": "python3"
        },
        "language_info": {
            "codemirror_mode": {
                "name": "ipython",
                "version": 3
            },
            "file_extension": ".py",
            "mimetype": "text/x-python",
            "name": "python",
            "nbconvert_exporter": "python",
            "pygments_lexer": "ipython3",
            "version": "3.12.1"
        }
    },
    "nbformat": 4,
    "nbformat_minor": 0
}
