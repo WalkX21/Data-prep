{
    "cells": [
        {
            "cell_type": "markdown",
            "metadata": {
                "colab_type": "text",
                "id": "view-in-github"
            },
            "source": [
                "<a href=\"https://colab.research.google.com/github/kplr-training/Data-Preparation/blob/main/EN/2-Handling-Missing-Data/Exercices-et-Solutions/Exercices_Handling_missing_data.ipynb\" target=\"_blank\"><img src=\"https://colab.research.google.com/assets/colab-badge.svg\" alt=\"Open In Colab\"/></a>"
            ]
        },
        {
            "cell_type": "markdown",
            "metadata": {
                "id": "R0MImSXuBzbN"
            },
            "source": [
                "**Exercice 1 :**    \n",
                "- Écrivez un programme Pandas pour détecter les valeurs manquantes d'un DataFrame donné.\n",
                "- Afficher Vrai ou Faux."
            ]
        },
        {
            "cell_type": "code",
            "execution_count": 15,
            "metadata": {
                "id": "SH4V3g08BjVe"
            },
            "outputs": [],
            "source": [
                "import pandas as pd\n",
                "import numpy as np\n",
                "pd.set_option('display.max_rows', None)\n",
                "df = pd.DataFrame({\n",
                "'ord_no':[70001,np.nan,70002,70004,np.nan,70005,np.nan,70010,70003,70012,np.nan,70013],\n",
                "'purch_amt':[150.5,270.65,65.26,110.5,948.5,2400.6,5760,1983.43,2480.4,250.45, 75.29,3045.6],\n",
                "'ord_date': ['2012-10-05','2012-09-10',np.nan,'2012-08-17','2012-09-10','2012-07-27','2012-09-10','2012-10-10','2012-10-10','2012-06-27','2012-08-17','2012-04-25'],\n",
                "'customer_id':[3002,3001,3001,3003,3002,3001,3001,3004,3003,3002,3001,3001],\n",
                "'salesman_id':[5002,5003,5001,np.nan,5002,5001,5001,np.nan,5003,5002,5003,np.nan]})"
            ]
        },
        {
            "cell_type": "code",
            "execution_count": 2,
            "metadata": {
                "id": "NRFCXILaCB5O"
            },
            "outputs": [
                {
                    "data": {
                        "text/html": [
                            "<div>\n",
                            "<style scoped>\n",
                            "    .dataframe tbody tr th:only-of-type {\n",
                            "        vertical-align: middle;\n",
                            "    }\n",
                            "\n",
                            "    .dataframe tbody tr th {\n",
                            "        vertical-align: top;\n",
                            "    }\n",
                            "\n",
                            "    .dataframe thead th {\n",
                            "        text-align: right;\n",
                            "    }\n",
                            "</style>\n",
                            "<table border=\"1\" class=\"dataframe\">\n",
                            "  <thead>\n",
                            "    <tr style=\"text-align: right;\">\n",
                            "      <th></th>\n",
                            "      <th>ord_no</th>\n",
                            "      <th>purch_amt</th>\n",
                            "      <th>ord_date</th>\n",
                            "      <th>customer_id</th>\n",
                            "      <th>salesman_id</th>\n",
                            "    </tr>\n",
                            "  </thead>\n",
                            "  <tbody>\n",
                            "    <tr>\n",
                            "      <th>0</th>\n",
                            "      <td>False</td>\n",
                            "      <td>False</td>\n",
                            "      <td>False</td>\n",
                            "      <td>False</td>\n",
                            "      <td>False</td>\n",
                            "    </tr>\n",
                            "    <tr>\n",
                            "      <th>1</th>\n",
                            "      <td>True</td>\n",
                            "      <td>False</td>\n",
                            "      <td>False</td>\n",
                            "      <td>False</td>\n",
                            "      <td>False</td>\n",
                            "    </tr>\n",
                            "    <tr>\n",
                            "      <th>2</th>\n",
                            "      <td>False</td>\n",
                            "      <td>False</td>\n",
                            "      <td>True</td>\n",
                            "      <td>False</td>\n",
                            "      <td>False</td>\n",
                            "    </tr>\n",
                            "    <tr>\n",
                            "      <th>3</th>\n",
                            "      <td>False</td>\n",
                            "      <td>False</td>\n",
                            "      <td>False</td>\n",
                            "      <td>False</td>\n",
                            "      <td>True</td>\n",
                            "    </tr>\n",
                            "    <tr>\n",
                            "      <th>4</th>\n",
                            "      <td>True</td>\n",
                            "      <td>False</td>\n",
                            "      <td>False</td>\n",
                            "      <td>False</td>\n",
                            "      <td>False</td>\n",
                            "    </tr>\n",
                            "    <tr>\n",
                            "      <th>5</th>\n",
                            "      <td>False</td>\n",
                            "      <td>False</td>\n",
                            "      <td>False</td>\n",
                            "      <td>False</td>\n",
                            "      <td>False</td>\n",
                            "    </tr>\n",
                            "    <tr>\n",
                            "      <th>6</th>\n",
                            "      <td>True</td>\n",
                            "      <td>False</td>\n",
                            "      <td>False</td>\n",
                            "      <td>False</td>\n",
                            "      <td>False</td>\n",
                            "    </tr>\n",
                            "    <tr>\n",
                            "      <th>7</th>\n",
                            "      <td>False</td>\n",
                            "      <td>False</td>\n",
                            "      <td>False</td>\n",
                            "      <td>False</td>\n",
                            "      <td>True</td>\n",
                            "    </tr>\n",
                            "    <tr>\n",
                            "      <th>8</th>\n",
                            "      <td>False</td>\n",
                            "      <td>False</td>\n",
                            "      <td>False</td>\n",
                            "      <td>False</td>\n",
                            "      <td>False</td>\n",
                            "    </tr>\n",
                            "    <tr>\n",
                            "      <th>9</th>\n",
                            "      <td>False</td>\n",
                            "      <td>False</td>\n",
                            "      <td>False</td>\n",
                            "      <td>False</td>\n",
                            "      <td>False</td>\n",
                            "    </tr>\n",
                            "    <tr>\n",
                            "      <th>10</th>\n",
                            "      <td>True</td>\n",
                            "      <td>False</td>\n",
                            "      <td>False</td>\n",
                            "      <td>False</td>\n",
                            "      <td>False</td>\n",
                            "    </tr>\n",
                            "    <tr>\n",
                            "      <th>11</th>\n",
                            "      <td>False</td>\n",
                            "      <td>False</td>\n",
                            "      <td>False</td>\n",
                            "      <td>False</td>\n",
                            "      <td>True</td>\n",
                            "    </tr>\n",
                            "  </tbody>\n",
                            "</table>\n",
                            "</div>"
                        ],
                        "text/plain": [
                            "    ord_no  purch_amt  ord_date  customer_id  salesman_id\n",
                            "0    False      False     False        False        False\n",
                            "1     True      False     False        False        False\n",
                            "2    False      False      True        False        False\n",
                            "3    False      False     False        False         True\n",
                            "4     True      False     False        False        False\n",
                            "5    False      False     False        False        False\n",
                            "6     True      False     False        False        False\n",
                            "7    False      False     False        False         True\n",
                            "8    False      False     False        False        False\n",
                            "9    False      False     False        False        False\n",
                            "10    True      False     False        False        False\n",
                            "11   False      False     False        False         True"
                        ]
                    },
                    "execution_count": 2,
                    "metadata": {},
                    "output_type": "execute_result"
                }
            ],
            "source": [
                "#df.fillna()\n",
                "df.isna()"
            ]
        },
        {
            "cell_type": "markdown",
            "metadata": {
                "id": "nvjdBMt3CXhk"
            },
            "source": [
                "**Exercice 2 :**\n",
                "\n",
                "- Écrivez un programme Pandas pour identifier la ou les colonnes de DataFrame  qui ont au moins une valeur manquante."
            ]
        },
        {
            "cell_type": "code",
            "execution_count": 3,
            "metadata": {
                "id": "fj_hvQyLCsNy"
            },
            "outputs": [
                {
                    "data": {
                        "text/plain": [
                            "ord_no          True\n",
                            "purch_amt      False\n",
                            "ord_date        True\n",
                            "customer_id    False\n",
                            "salesman_id     True\n",
                            "dtype: bool"
                        ]
                    },
                    "execution_count": 3,
                    "metadata": {},
                    "output_type": "execute_result"
                }
            ],
            "source": [
                "#solution \n",
                "df.isna().any()"
            ]
        },
        {
            "cell_type": "markdown",
            "metadata": {
                "id": "RWUVuT3sDTA3"
            },
            "source": [
                "**Exercice 3 :**   \n",
                "- Écrivez un programme Pandas pour compter le nombre de valeurs manquantes dans chaque colonne d'un DataFrame."
            ]
        },
        {
            "cell_type": "code",
            "execution_count": 4,
            "metadata": {
                "id": "W0u-gGstDnKE"
            },
            "outputs": [
                {
                    "data": {
                        "text/plain": [
                            "ord_no         4\n",
                            "purch_amt      0\n",
                            "ord_date       1\n",
                            "customer_id    0\n",
                            "salesman_id    3\n",
                            "dtype: int64"
                        ]
                    },
                    "execution_count": 4,
                    "metadata": {},
                    "output_type": "execute_result"
                }
            ],
            "source": [
                "#solution\n",
                "df.isna().sum()"
            ]
        },
        {
            "cell_type": "markdown",
            "metadata": {
                "id": "9sIRBbNODtML"
            },
            "source": [
                "**Exercice 4 :**     \n",
                "- Écrivez un programme Pandas pour rechercher et remplacer les valeurs manquantes dans un DataFrame  qui ne contiennent aucune information précieuse."
            ]
        },
        {
            "cell_type": "code",
            "execution_count": 5,
            "metadata": {
                "id": "nV-J8gyNED_C"
            },
            "outputs": [
                {
                    "data": {
                        "text/html": [
                            "<div>\n",
                            "<style scoped>\n",
                            "    .dataframe tbody tr th:only-of-type {\n",
                            "        vertical-align: middle;\n",
                            "    }\n",
                            "\n",
                            "    .dataframe tbody tr th {\n",
                            "        vertical-align: top;\n",
                            "    }\n",
                            "\n",
                            "    .dataframe thead th {\n",
                            "        text-align: right;\n",
                            "    }\n",
                            "</style>\n",
                            "<table border=\"1\" class=\"dataframe\">\n",
                            "  <thead>\n",
                            "    <tr style=\"text-align: right;\">\n",
                            "      <th></th>\n",
                            "      <th>ord_no</th>\n",
                            "      <th>purch_amt</th>\n",
                            "      <th>ord_date</th>\n",
                            "      <th>customer_id</th>\n",
                            "      <th>salesman_id</th>\n",
                            "    </tr>\n",
                            "  </thead>\n",
                            "  <tbody>\n",
                            "    <tr>\n",
                            "      <th>0</th>\n",
                            "      <td>70001.0</td>\n",
                            "      <td>150.50</td>\n",
                            "      <td>2012-10-05</td>\n",
                            "      <td>3002</td>\n",
                            "      <td>5002.0</td>\n",
                            "    </tr>\n",
                            "    <tr>\n",
                            "      <th>1</th>\n",
                            "      <td>?</td>\n",
                            "      <td>270.65</td>\n",
                            "      <td>2012-09-10</td>\n",
                            "      <td>3001</td>\n",
                            "      <td>5003.0</td>\n",
                            "    </tr>\n",
                            "    <tr>\n",
                            "      <th>2</th>\n",
                            "      <td>70002.0</td>\n",
                            "      <td>65.26</td>\n",
                            "      <td>?</td>\n",
                            "      <td>3001</td>\n",
                            "      <td>5001.0</td>\n",
                            "    </tr>\n",
                            "    <tr>\n",
                            "      <th>3</th>\n",
                            "      <td>70004.0</td>\n",
                            "      <td>110.50</td>\n",
                            "      <td>2012-08-17</td>\n",
                            "      <td>3003</td>\n",
                            "      <td>?</td>\n",
                            "    </tr>\n",
                            "    <tr>\n",
                            "      <th>4</th>\n",
                            "      <td>?</td>\n",
                            "      <td>948.50</td>\n",
                            "      <td>2012-09-10</td>\n",
                            "      <td>3002</td>\n",
                            "      <td>5002.0</td>\n",
                            "    </tr>\n",
                            "    <tr>\n",
                            "      <th>5</th>\n",
                            "      <td>70005.0</td>\n",
                            "      <td>2400.60</td>\n",
                            "      <td>2012-07-27</td>\n",
                            "      <td>3001</td>\n",
                            "      <td>5001.0</td>\n",
                            "    </tr>\n",
                            "    <tr>\n",
                            "      <th>6</th>\n",
                            "      <td>?</td>\n",
                            "      <td>5760.00</td>\n",
                            "      <td>2012-09-10</td>\n",
                            "      <td>3001</td>\n",
                            "      <td>5001.0</td>\n",
                            "    </tr>\n",
                            "    <tr>\n",
                            "      <th>7</th>\n",
                            "      <td>70010.0</td>\n",
                            "      <td>1983.43</td>\n",
                            "      <td>2012-10-10</td>\n",
                            "      <td>3004</td>\n",
                            "      <td>?</td>\n",
                            "    </tr>\n",
                            "    <tr>\n",
                            "      <th>8</th>\n",
                            "      <td>70003.0</td>\n",
                            "      <td>2480.40</td>\n",
                            "      <td>2012-10-10</td>\n",
                            "      <td>3003</td>\n",
                            "      <td>5003.0</td>\n",
                            "    </tr>\n",
                            "    <tr>\n",
                            "      <th>9</th>\n",
                            "      <td>70012.0</td>\n",
                            "      <td>250.45</td>\n",
                            "      <td>2012-06-27</td>\n",
                            "      <td>3002</td>\n",
                            "      <td>5002.0</td>\n",
                            "    </tr>\n",
                            "    <tr>\n",
                            "      <th>10</th>\n",
                            "      <td>?</td>\n",
                            "      <td>75.29</td>\n",
                            "      <td>2012-08-17</td>\n",
                            "      <td>3001</td>\n",
                            "      <td>5003.0</td>\n",
                            "    </tr>\n",
                            "    <tr>\n",
                            "      <th>11</th>\n",
                            "      <td>70013.0</td>\n",
                            "      <td>3045.60</td>\n",
                            "      <td>2012-04-25</td>\n",
                            "      <td>3001</td>\n",
                            "      <td>?</td>\n",
                            "    </tr>\n",
                            "  </tbody>\n",
                            "</table>\n",
                            "</div>"
                        ],
                        "text/plain": [
                            "     ord_no  purch_amt    ord_date  customer_id salesman_id\n",
                            "0   70001.0     150.50  2012-10-05         3002      5002.0\n",
                            "1         ?     270.65  2012-09-10         3001      5003.0\n",
                            "2   70002.0      65.26           ?         3001      5001.0\n",
                            "3   70004.0     110.50  2012-08-17         3003           ?\n",
                            "4         ?     948.50  2012-09-10         3002      5002.0\n",
                            "5   70005.0    2400.60  2012-07-27         3001      5001.0\n",
                            "6         ?    5760.00  2012-09-10         3001      5001.0\n",
                            "7   70010.0    1983.43  2012-10-10         3004           ?\n",
                            "8   70003.0    2480.40  2012-10-10         3003      5003.0\n",
                            "9   70012.0     250.45  2012-06-27         3002      5002.0\n",
                            "10        ?      75.29  2012-08-17         3001      5003.0\n",
                            "11  70013.0    3045.60  2012-04-25         3001           ?"
                        ]
                    },
                    "execution_count": 5,
                    "metadata": {},
                    "output_type": "execute_result"
                }
            ],
            "source": [
                "#solution\n",
                "df.fillna('?')"
            ]
        },
        {
            "cell_type": "markdown",
            "metadata": {
                "id": "sLU1-DpREYAm"
            },
            "source": [
                "**Exercice 5:**   \n",
                "- Écrivez un programme Pandas pour supprimer les lignes où au moins un élément manque dans un DataFrame."
            ]
        },
        {
            "cell_type": "code",
            "execution_count": 6,
            "metadata": {
                "id": "nrTZgJQVEeW5"
            },
            "outputs": [
                {
                    "data": {
                        "text/html": [
                            "<div>\n",
                            "<style scoped>\n",
                            "    .dataframe tbody tr th:only-of-type {\n",
                            "        vertical-align: middle;\n",
                            "    }\n",
                            "\n",
                            "    .dataframe tbody tr th {\n",
                            "        vertical-align: top;\n",
                            "    }\n",
                            "\n",
                            "    .dataframe thead th {\n",
                            "        text-align: right;\n",
                            "    }\n",
                            "</style>\n",
                            "<table border=\"1\" class=\"dataframe\">\n",
                            "  <thead>\n",
                            "    <tr style=\"text-align: right;\">\n",
                            "      <th></th>\n",
                            "      <th>ord_no</th>\n",
                            "      <th>purch_amt</th>\n",
                            "      <th>ord_date</th>\n",
                            "      <th>customer_id</th>\n",
                            "      <th>salesman_id</th>\n",
                            "    </tr>\n",
                            "  </thead>\n",
                            "  <tbody>\n",
                            "    <tr>\n",
                            "      <th>0</th>\n",
                            "      <td>70001.0</td>\n",
                            "      <td>150.50</td>\n",
                            "      <td>2012-10-05</td>\n",
                            "      <td>3002</td>\n",
                            "      <td>5002.0</td>\n",
                            "    </tr>\n",
                            "    <tr>\n",
                            "      <th>5</th>\n",
                            "      <td>70005.0</td>\n",
                            "      <td>2400.60</td>\n",
                            "      <td>2012-07-27</td>\n",
                            "      <td>3001</td>\n",
                            "      <td>5001.0</td>\n",
                            "    </tr>\n",
                            "    <tr>\n",
                            "      <th>8</th>\n",
                            "      <td>70003.0</td>\n",
                            "      <td>2480.40</td>\n",
                            "      <td>2012-10-10</td>\n",
                            "      <td>3003</td>\n",
                            "      <td>5003.0</td>\n",
                            "    </tr>\n",
                            "    <tr>\n",
                            "      <th>9</th>\n",
                            "      <td>70012.0</td>\n",
                            "      <td>250.45</td>\n",
                            "      <td>2012-06-27</td>\n",
                            "      <td>3002</td>\n",
                            "      <td>5002.0</td>\n",
                            "    </tr>\n",
                            "  </tbody>\n",
                            "</table>\n",
                            "</div>"
                        ],
                        "text/plain": [
                            "    ord_no  purch_amt    ord_date  customer_id  salesman_id\n",
                            "0  70001.0     150.50  2012-10-05         3002       5002.0\n",
                            "5  70005.0    2400.60  2012-07-27         3001       5001.0\n",
                            "8  70003.0    2480.40  2012-10-10         3003       5003.0\n",
                            "9  70012.0     250.45  2012-06-27         3002       5002.0"
                        ]
                    },
                    "execution_count": 6,
                    "metadata": {},
                    "output_type": "execute_result"
                }
            ],
            "source": [
                "#solution\n",
                "df.dropna()"
            ]
        },
        {
            "cell_type": "markdown",
            "metadata": {
                "id": "bhbe-NNVE7h7"
            },
            "source": [
                "**Exercice 6:**\n",
                "\n",
                "- Écrivez un programme Pandas pour supprimer les colonnes où au moins un élément manque dans un DataFrame."
            ]
        },
        {
            "cell_type": "code",
            "execution_count": 7,
            "metadata": {
                "id": "MlnHPPB4EvIc"
            },
            "outputs": [
                {
                    "data": {
                        "text/html": [
                            "<div>\n",
                            "<style scoped>\n",
                            "    .dataframe tbody tr th:only-of-type {\n",
                            "        vertical-align: middle;\n",
                            "    }\n",
                            "\n",
                            "    .dataframe tbody tr th {\n",
                            "        vertical-align: top;\n",
                            "    }\n",
                            "\n",
                            "    .dataframe thead th {\n",
                            "        text-align: right;\n",
                            "    }\n",
                            "</style>\n",
                            "<table border=\"1\" class=\"dataframe\">\n",
                            "  <thead>\n",
                            "    <tr style=\"text-align: right;\">\n",
                            "      <th></th>\n",
                            "      <th>purch_amt</th>\n",
                            "      <th>customer_id</th>\n",
                            "    </tr>\n",
                            "  </thead>\n",
                            "  <tbody>\n",
                            "    <tr>\n",
                            "      <th>0</th>\n",
                            "      <td>150.50</td>\n",
                            "      <td>3002</td>\n",
                            "    </tr>\n",
                            "    <tr>\n",
                            "      <th>1</th>\n",
                            "      <td>270.65</td>\n",
                            "      <td>3001</td>\n",
                            "    </tr>\n",
                            "    <tr>\n",
                            "      <th>2</th>\n",
                            "      <td>65.26</td>\n",
                            "      <td>3001</td>\n",
                            "    </tr>\n",
                            "    <tr>\n",
                            "      <th>3</th>\n",
                            "      <td>110.50</td>\n",
                            "      <td>3003</td>\n",
                            "    </tr>\n",
                            "    <tr>\n",
                            "      <th>4</th>\n",
                            "      <td>948.50</td>\n",
                            "      <td>3002</td>\n",
                            "    </tr>\n",
                            "    <tr>\n",
                            "      <th>5</th>\n",
                            "      <td>2400.60</td>\n",
                            "      <td>3001</td>\n",
                            "    </tr>\n",
                            "    <tr>\n",
                            "      <th>6</th>\n",
                            "      <td>5760.00</td>\n",
                            "      <td>3001</td>\n",
                            "    </tr>\n",
                            "    <tr>\n",
                            "      <th>7</th>\n",
                            "      <td>1983.43</td>\n",
                            "      <td>3004</td>\n",
                            "    </tr>\n",
                            "    <tr>\n",
                            "      <th>8</th>\n",
                            "      <td>2480.40</td>\n",
                            "      <td>3003</td>\n",
                            "    </tr>\n",
                            "    <tr>\n",
                            "      <th>9</th>\n",
                            "      <td>250.45</td>\n",
                            "      <td>3002</td>\n",
                            "    </tr>\n",
                            "    <tr>\n",
                            "      <th>10</th>\n",
                            "      <td>75.29</td>\n",
                            "      <td>3001</td>\n",
                            "    </tr>\n",
                            "    <tr>\n",
                            "      <th>11</th>\n",
                            "      <td>3045.60</td>\n",
                            "      <td>3001</td>\n",
                            "    </tr>\n",
                            "  </tbody>\n",
                            "</table>\n",
                            "</div>"
                        ],
                        "text/plain": [
                            "    purch_amt  customer_id\n",
                            "0      150.50         3002\n",
                            "1      270.65         3001\n",
                            "2       65.26         3001\n",
                            "3      110.50         3003\n",
                            "4      948.50         3002\n",
                            "5     2400.60         3001\n",
                            "6     5760.00         3001\n",
                            "7     1983.43         3004\n",
                            "8     2480.40         3003\n",
                            "9      250.45         3002\n",
                            "10      75.29         3001\n",
                            "11    3045.60         3001"
                        ]
                    },
                    "execution_count": 7,
                    "metadata": {},
                    "output_type": "execute_result"
                }
            ],
            "source": [
                "#solution\n",
                "df.dropna(axis='columns')"
            ]
        },
        {
            "cell_type": "markdown",
            "metadata": {},
            "source": []
        },
        {
            "cell_type": "markdown",
            "metadata": {
                "id": "e05WjcWZFMNH"
            },
            "source": [
                "**Exercice 7:**\n",
                "- Écrivez un programme Pandas pour supprimer les lignes où tous les éléments manquent dans un DataFrame ."
            ]
        },
        {
            "cell_type": "code",
            "execution_count": 8,
            "metadata": {
                "id": "30pENZQ8FVXz"
            },
            "outputs": [
                {
                    "data": {
                        "text/html": [
                            "<div>\n",
                            "<style scoped>\n",
                            "    .dataframe tbody tr th:only-of-type {\n",
                            "        vertical-align: middle;\n",
                            "    }\n",
                            "\n",
                            "    .dataframe tbody tr th {\n",
                            "        vertical-align: top;\n",
                            "    }\n",
                            "\n",
                            "    .dataframe thead th {\n",
                            "        text-align: right;\n",
                            "    }\n",
                            "</style>\n",
                            "<table border=\"1\" class=\"dataframe\">\n",
                            "  <thead>\n",
                            "    <tr style=\"text-align: right;\">\n",
                            "      <th></th>\n",
                            "      <th>ord_no</th>\n",
                            "      <th>purch_amt</th>\n",
                            "      <th>ord_date</th>\n",
                            "      <th>customer_id</th>\n",
                            "      <th>salesman_id</th>\n",
                            "    </tr>\n",
                            "  </thead>\n",
                            "  <tbody>\n",
                            "    <tr>\n",
                            "      <th>0</th>\n",
                            "      <td>70001.0</td>\n",
                            "      <td>150.50</td>\n",
                            "      <td>2012-10-05</td>\n",
                            "      <td>3002</td>\n",
                            "      <td>5002.0</td>\n",
                            "    </tr>\n",
                            "    <tr>\n",
                            "      <th>1</th>\n",
                            "      <td>NaN</td>\n",
                            "      <td>270.65</td>\n",
                            "      <td>2012-09-10</td>\n",
                            "      <td>3001</td>\n",
                            "      <td>5003.0</td>\n",
                            "    </tr>\n",
                            "    <tr>\n",
                            "      <th>2</th>\n",
                            "      <td>70002.0</td>\n",
                            "      <td>65.26</td>\n",
                            "      <td>NaN</td>\n",
                            "      <td>3001</td>\n",
                            "      <td>5001.0</td>\n",
                            "    </tr>\n",
                            "    <tr>\n",
                            "      <th>3</th>\n",
                            "      <td>70004.0</td>\n",
                            "      <td>110.50</td>\n",
                            "      <td>2012-08-17</td>\n",
                            "      <td>3003</td>\n",
                            "      <td>NaN</td>\n",
                            "    </tr>\n",
                            "    <tr>\n",
                            "      <th>4</th>\n",
                            "      <td>NaN</td>\n",
                            "      <td>948.50</td>\n",
                            "      <td>2012-09-10</td>\n",
                            "      <td>3002</td>\n",
                            "      <td>5002.0</td>\n",
                            "    </tr>\n",
                            "    <tr>\n",
                            "      <th>5</th>\n",
                            "      <td>70005.0</td>\n",
                            "      <td>2400.60</td>\n",
                            "      <td>2012-07-27</td>\n",
                            "      <td>3001</td>\n",
                            "      <td>5001.0</td>\n",
                            "    </tr>\n",
                            "    <tr>\n",
                            "      <th>6</th>\n",
                            "      <td>NaN</td>\n",
                            "      <td>5760.00</td>\n",
                            "      <td>2012-09-10</td>\n",
                            "      <td>3001</td>\n",
                            "      <td>5001.0</td>\n",
                            "    </tr>\n",
                            "    <tr>\n",
                            "      <th>7</th>\n",
                            "      <td>70010.0</td>\n",
                            "      <td>1983.43</td>\n",
                            "      <td>2012-10-10</td>\n",
                            "      <td>3004</td>\n",
                            "      <td>NaN</td>\n",
                            "    </tr>\n",
                            "    <tr>\n",
                            "      <th>8</th>\n",
                            "      <td>70003.0</td>\n",
                            "      <td>2480.40</td>\n",
                            "      <td>2012-10-10</td>\n",
                            "      <td>3003</td>\n",
                            "      <td>5003.0</td>\n",
                            "    </tr>\n",
                            "    <tr>\n",
                            "      <th>9</th>\n",
                            "      <td>70012.0</td>\n",
                            "      <td>250.45</td>\n",
                            "      <td>2012-06-27</td>\n",
                            "      <td>3002</td>\n",
                            "      <td>5002.0</td>\n",
                            "    </tr>\n",
                            "    <tr>\n",
                            "      <th>10</th>\n",
                            "      <td>NaN</td>\n",
                            "      <td>75.29</td>\n",
                            "      <td>2012-08-17</td>\n",
                            "      <td>3001</td>\n",
                            "      <td>5003.0</td>\n",
                            "    </tr>\n",
                            "    <tr>\n",
                            "      <th>11</th>\n",
                            "      <td>70013.0</td>\n",
                            "      <td>3045.60</td>\n",
                            "      <td>2012-04-25</td>\n",
                            "      <td>3001</td>\n",
                            "      <td>NaN</td>\n",
                            "    </tr>\n",
                            "  </tbody>\n",
                            "</table>\n",
                            "</div>"
                        ],
                        "text/plain": [
                            "     ord_no  purch_amt    ord_date  customer_id  salesman_id\n",
                            "0   70001.0     150.50  2012-10-05         3002       5002.0\n",
                            "1       NaN     270.65  2012-09-10         3001       5003.0\n",
                            "2   70002.0      65.26         NaN         3001       5001.0\n",
                            "3   70004.0     110.50  2012-08-17         3003          NaN\n",
                            "4       NaN     948.50  2012-09-10         3002       5002.0\n",
                            "5   70005.0    2400.60  2012-07-27         3001       5001.0\n",
                            "6       NaN    5760.00  2012-09-10         3001       5001.0\n",
                            "7   70010.0    1983.43  2012-10-10         3004          NaN\n",
                            "8   70003.0    2480.40  2012-10-10         3003       5003.0\n",
                            "9   70012.0     250.45  2012-06-27         3002       5002.0\n",
                            "10      NaN      75.29  2012-08-17         3001       5003.0\n",
                            "11  70013.0    3045.60  2012-04-25         3001          NaN"
                        ]
                    },
                    "execution_count": 8,
                    "metadata": {},
                    "output_type": "execute_result"
                }
            ],
            "source": [
                "#solution\n",
                "df.dropna(how='all')"
            ]
        },
        {
            "cell_type": "markdown",
            "metadata": {
                "id": "81ogv0mOFhKa"
            },
            "source": [
                "**Exercice 8:**\n",
                "- Écrivez un programme Pandas pour conserver les lignes avec au moins 2 valeurs NaN dans un DataFrame."
            ]
        },
        {
            "cell_type": "code",
            "execution_count": 9,
            "metadata": {
                "id": "JDJE5SuCFobL"
            },
            "outputs": [
                {
                    "data": {
                        "text/html": [
                            "<div>\n",
                            "<style scoped>\n",
                            "    .dataframe tbody tr th:only-of-type {\n",
                            "        vertical-align: middle;\n",
                            "    }\n",
                            "\n",
                            "    .dataframe tbody tr th {\n",
                            "        vertical-align: top;\n",
                            "    }\n",
                            "\n",
                            "    .dataframe thead th {\n",
                            "        text-align: right;\n",
                            "    }\n",
                            "</style>\n",
                            "<table border=\"1\" class=\"dataframe\">\n",
                            "  <thead>\n",
                            "    <tr style=\"text-align: right;\">\n",
                            "      <th></th>\n",
                            "      <th>ord_no</th>\n",
                            "      <th>purch_amt</th>\n",
                            "      <th>ord_date</th>\n",
                            "      <th>customer_id</th>\n",
                            "      <th>salesman_id</th>\n",
                            "    </tr>\n",
                            "  </thead>\n",
                            "  <tbody>\n",
                            "    <tr>\n",
                            "      <th>0</th>\n",
                            "      <td>70001.0</td>\n",
                            "      <td>150.50</td>\n",
                            "      <td>2012-10-05</td>\n",
                            "      <td>3002</td>\n",
                            "      <td>5002.0</td>\n",
                            "    </tr>\n",
                            "    <tr>\n",
                            "      <th>1</th>\n",
                            "      <td>NaN</td>\n",
                            "      <td>270.65</td>\n",
                            "      <td>2012-09-10</td>\n",
                            "      <td>3001</td>\n",
                            "      <td>5003.0</td>\n",
                            "    </tr>\n",
                            "    <tr>\n",
                            "      <th>2</th>\n",
                            "      <td>70002.0</td>\n",
                            "      <td>65.26</td>\n",
                            "      <td>NaN</td>\n",
                            "      <td>3001</td>\n",
                            "      <td>5001.0</td>\n",
                            "    </tr>\n",
                            "    <tr>\n",
                            "      <th>3</th>\n",
                            "      <td>70004.0</td>\n",
                            "      <td>110.50</td>\n",
                            "      <td>2012-08-17</td>\n",
                            "      <td>3003</td>\n",
                            "      <td>NaN</td>\n",
                            "    </tr>\n",
                            "    <tr>\n",
                            "      <th>4</th>\n",
                            "      <td>NaN</td>\n",
                            "      <td>948.50</td>\n",
                            "      <td>2012-09-10</td>\n",
                            "      <td>3002</td>\n",
                            "      <td>5002.0</td>\n",
                            "    </tr>\n",
                            "    <tr>\n",
                            "      <th>5</th>\n",
                            "      <td>70005.0</td>\n",
                            "      <td>2400.60</td>\n",
                            "      <td>2012-07-27</td>\n",
                            "      <td>3001</td>\n",
                            "      <td>5001.0</td>\n",
                            "    </tr>\n",
                            "    <tr>\n",
                            "      <th>6</th>\n",
                            "      <td>NaN</td>\n",
                            "      <td>5760.00</td>\n",
                            "      <td>2012-09-10</td>\n",
                            "      <td>3001</td>\n",
                            "      <td>5001.0</td>\n",
                            "    </tr>\n",
                            "    <tr>\n",
                            "      <th>7</th>\n",
                            "      <td>70010.0</td>\n",
                            "      <td>1983.43</td>\n",
                            "      <td>2012-10-10</td>\n",
                            "      <td>3004</td>\n",
                            "      <td>NaN</td>\n",
                            "    </tr>\n",
                            "    <tr>\n",
                            "      <th>8</th>\n",
                            "      <td>70003.0</td>\n",
                            "      <td>2480.40</td>\n",
                            "      <td>2012-10-10</td>\n",
                            "      <td>3003</td>\n",
                            "      <td>5003.0</td>\n",
                            "    </tr>\n",
                            "    <tr>\n",
                            "      <th>9</th>\n",
                            "      <td>70012.0</td>\n",
                            "      <td>250.45</td>\n",
                            "      <td>2012-06-27</td>\n",
                            "      <td>3002</td>\n",
                            "      <td>5002.0</td>\n",
                            "    </tr>\n",
                            "    <tr>\n",
                            "      <th>10</th>\n",
                            "      <td>NaN</td>\n",
                            "      <td>75.29</td>\n",
                            "      <td>2012-08-17</td>\n",
                            "      <td>3001</td>\n",
                            "      <td>5003.0</td>\n",
                            "    </tr>\n",
                            "    <tr>\n",
                            "      <th>11</th>\n",
                            "      <td>70013.0</td>\n",
                            "      <td>3045.60</td>\n",
                            "      <td>2012-04-25</td>\n",
                            "      <td>3001</td>\n",
                            "      <td>NaN</td>\n",
                            "    </tr>\n",
                            "  </tbody>\n",
                            "</table>\n",
                            "</div>"
                        ],
                        "text/plain": [
                            "     ord_no  purch_amt    ord_date  customer_id  salesman_id\n",
                            "0   70001.0     150.50  2012-10-05         3002       5002.0\n",
                            "1       NaN     270.65  2012-09-10         3001       5003.0\n",
                            "2   70002.0      65.26         NaN         3001       5001.0\n",
                            "3   70004.0     110.50  2012-08-17         3003          NaN\n",
                            "4       NaN     948.50  2012-09-10         3002       5002.0\n",
                            "5   70005.0    2400.60  2012-07-27         3001       5001.0\n",
                            "6       NaN    5760.00  2012-09-10         3001       5001.0\n",
                            "7   70010.0    1983.43  2012-10-10         3004          NaN\n",
                            "8   70003.0    2480.40  2012-10-10         3003       5003.0\n",
                            "9   70012.0     250.45  2012-06-27         3002       5002.0\n",
                            "10      NaN      75.29  2012-08-17         3001       5003.0\n",
                            "11  70013.0    3045.60  2012-04-25         3001          NaN"
                        ]
                    },
                    "execution_count": 9,
                    "metadata": {},
                    "output_type": "execute_result"
                }
            ],
            "source": [
                "#solution\n",
                "df.dropna(thresh=2)"
            ]
        },
        {
            "cell_type": "markdown",
            "metadata": {
                "id": "kGFFb4PCF6La"
            },
            "source": [
                "**Exercice 9:**\n",
                "- Écrivez un programme Pandas pour supprimer ces lignes d'un DataFrame dans lequel des colonnes spécifiques ont des valeurs manquantes."
            ]
        },
        {
            "cell_type": "code",
            "execution_count": 11,
            "metadata": {
                "id": "UWr_qlw5GC_V"
            },
            "outputs": [
                {
                    "data": {
                        "text/html": [
                            "<div>\n",
                            "<style scoped>\n",
                            "    .dataframe tbody tr th:only-of-type {\n",
                            "        vertical-align: middle;\n",
                            "    }\n",
                            "\n",
                            "    .dataframe tbody tr th {\n",
                            "        vertical-align: top;\n",
                            "    }\n",
                            "\n",
                            "    .dataframe thead th {\n",
                            "        text-align: right;\n",
                            "    }\n",
                            "</style>\n",
                            "<table border=\"1\" class=\"dataframe\">\n",
                            "  <thead>\n",
                            "    <tr style=\"text-align: right;\">\n",
                            "      <th></th>\n",
                            "      <th>ord_no</th>\n",
                            "      <th>purch_amt</th>\n",
                            "      <th>ord_date</th>\n",
                            "      <th>customer_id</th>\n",
                            "      <th>salesman_id</th>\n",
                            "    </tr>\n",
                            "  </thead>\n",
                            "  <tbody>\n",
                            "    <tr>\n",
                            "      <th>0</th>\n",
                            "      <td>70001.0</td>\n",
                            "      <td>150.50</td>\n",
                            "      <td>2012-10-05</td>\n",
                            "      <td>3002</td>\n",
                            "      <td>5002.0</td>\n",
                            "    </tr>\n",
                            "    <tr>\n",
                            "      <th>2</th>\n",
                            "      <td>70002.0</td>\n",
                            "      <td>65.26</td>\n",
                            "      <td>NaN</td>\n",
                            "      <td>3001</td>\n",
                            "      <td>5001.0</td>\n",
                            "    </tr>\n",
                            "    <tr>\n",
                            "      <th>3</th>\n",
                            "      <td>70004.0</td>\n",
                            "      <td>110.50</td>\n",
                            "      <td>2012-08-17</td>\n",
                            "      <td>3003</td>\n",
                            "      <td>NaN</td>\n",
                            "    </tr>\n",
                            "    <tr>\n",
                            "      <th>5</th>\n",
                            "      <td>70005.0</td>\n",
                            "      <td>2400.60</td>\n",
                            "      <td>2012-07-27</td>\n",
                            "      <td>3001</td>\n",
                            "      <td>5001.0</td>\n",
                            "    </tr>\n",
                            "    <tr>\n",
                            "      <th>7</th>\n",
                            "      <td>70010.0</td>\n",
                            "      <td>1983.43</td>\n",
                            "      <td>2012-10-10</td>\n",
                            "      <td>3004</td>\n",
                            "      <td>NaN</td>\n",
                            "    </tr>\n",
                            "    <tr>\n",
                            "      <th>8</th>\n",
                            "      <td>70003.0</td>\n",
                            "      <td>2480.40</td>\n",
                            "      <td>2012-10-10</td>\n",
                            "      <td>3003</td>\n",
                            "      <td>5003.0</td>\n",
                            "    </tr>\n",
                            "    <tr>\n",
                            "      <th>9</th>\n",
                            "      <td>70012.0</td>\n",
                            "      <td>250.45</td>\n",
                            "      <td>2012-06-27</td>\n",
                            "      <td>3002</td>\n",
                            "      <td>5002.0</td>\n",
                            "    </tr>\n",
                            "    <tr>\n",
                            "      <th>11</th>\n",
                            "      <td>70013.0</td>\n",
                            "      <td>3045.60</td>\n",
                            "      <td>2012-04-25</td>\n",
                            "      <td>3001</td>\n",
                            "      <td>NaN</td>\n",
                            "    </tr>\n",
                            "  </tbody>\n",
                            "</table>\n",
                            "</div>"
                        ],
                        "text/plain": [
                            "     ord_no  purch_amt    ord_date  customer_id  salesman_id\n",
                            "0   70001.0     150.50  2012-10-05         3002       5002.0\n",
                            "2   70002.0      65.26         NaN         3001       5001.0\n",
                            "3   70004.0     110.50  2012-08-17         3003          NaN\n",
                            "5   70005.0    2400.60  2012-07-27         3001       5001.0\n",
                            "7   70010.0    1983.43  2012-10-10         3004          NaN\n",
                            "8   70003.0    2480.40  2012-10-10         3003       5003.0\n",
                            "9   70012.0     250.45  2012-06-27         3002       5002.0\n",
                            "11  70013.0    3045.60  2012-04-25         3001          NaN"
                        ]
                    },
                    "execution_count": 11,
                    "metadata": {},
                    "output_type": "execute_result"
                }
            ],
            "source": [
                "#solution\n",
                "\n",
                "df.dropna(subset='ord_no')"
            ]
        },
        {
            "cell_type": "markdown",
            "metadata": {
                "id": "hHJZ9XLlHlkd"
            },
            "source": [
                "**Exercice 10:**\n",
                "- Écrivez un programme Pandas pour conserver les entrées valides d'un DataFrame."
            ]
        },
        {
            "cell_type": "code",
            "execution_count": 12,
            "metadata": {},
            "outputs": [
                {
                    "data": {
                        "text/html": [
                            "<div>\n",
                            "<style scoped>\n",
                            "    .dataframe tbody tr th:only-of-type {\n",
                            "        vertical-align: middle;\n",
                            "    }\n",
                            "\n",
                            "    .dataframe tbody tr th {\n",
                            "        vertical-align: top;\n",
                            "    }\n",
                            "\n",
                            "    .dataframe thead th {\n",
                            "        text-align: right;\n",
                            "    }\n",
                            "</style>\n",
                            "<table border=\"1\" class=\"dataframe\">\n",
                            "  <thead>\n",
                            "    <tr style=\"text-align: right;\">\n",
                            "      <th></th>\n",
                            "      <th>ord_no</th>\n",
                            "      <th>purch_amt</th>\n",
                            "      <th>ord_date</th>\n",
                            "      <th>customer_id</th>\n",
                            "      <th>salesman_id</th>\n",
                            "    </tr>\n",
                            "  </thead>\n",
                            "  <tbody>\n",
                            "    <tr>\n",
                            "      <th>0</th>\n",
                            "      <td>70001.0</td>\n",
                            "      <td>150.50</td>\n",
                            "      <td>2012-10-05</td>\n",
                            "      <td>3002</td>\n",
                            "      <td>5002.0</td>\n",
                            "    </tr>\n",
                            "    <tr>\n",
                            "      <th>1</th>\n",
                            "      <td>NaN</td>\n",
                            "      <td>270.65</td>\n",
                            "      <td>2012-09-10</td>\n",
                            "      <td>3001</td>\n",
                            "      <td>5003.0</td>\n",
                            "    </tr>\n",
                            "    <tr>\n",
                            "      <th>2</th>\n",
                            "      <td>70002.0</td>\n",
                            "      <td>65.26</td>\n",
                            "      <td>NaN</td>\n",
                            "      <td>3001</td>\n",
                            "      <td>5001.0</td>\n",
                            "    </tr>\n",
                            "    <tr>\n",
                            "      <th>3</th>\n",
                            "      <td>70004.0</td>\n",
                            "      <td>110.50</td>\n",
                            "      <td>2012-08-17</td>\n",
                            "      <td>3003</td>\n",
                            "      <td>NaN</td>\n",
                            "    </tr>\n",
                            "    <tr>\n",
                            "      <th>4</th>\n",
                            "      <td>NaN</td>\n",
                            "      <td>948.50</td>\n",
                            "      <td>2012-09-10</td>\n",
                            "      <td>3002</td>\n",
                            "      <td>5002.0</td>\n",
                            "    </tr>\n",
                            "    <tr>\n",
                            "      <th>5</th>\n",
                            "      <td>70005.0</td>\n",
                            "      <td>2400.60</td>\n",
                            "      <td>2012-07-27</td>\n",
                            "      <td>3001</td>\n",
                            "      <td>5001.0</td>\n",
                            "    </tr>\n",
                            "    <tr>\n",
                            "      <th>6</th>\n",
                            "      <td>NaN</td>\n",
                            "      <td>5760.00</td>\n",
                            "      <td>2012-09-10</td>\n",
                            "      <td>3001</td>\n",
                            "      <td>5001.0</td>\n",
                            "    </tr>\n",
                            "    <tr>\n",
                            "      <th>7</th>\n",
                            "      <td>70010.0</td>\n",
                            "      <td>1983.43</td>\n",
                            "      <td>2012-10-10</td>\n",
                            "      <td>3004</td>\n",
                            "      <td>NaN</td>\n",
                            "    </tr>\n",
                            "    <tr>\n",
                            "      <th>8</th>\n",
                            "      <td>70003.0</td>\n",
                            "      <td>2480.40</td>\n",
                            "      <td>2012-10-10</td>\n",
                            "      <td>3003</td>\n",
                            "      <td>5003.0</td>\n",
                            "    </tr>\n",
                            "    <tr>\n",
                            "      <th>9</th>\n",
                            "      <td>70012.0</td>\n",
                            "      <td>250.45</td>\n",
                            "      <td>2012-06-27</td>\n",
                            "      <td>3002</td>\n",
                            "      <td>5002.0</td>\n",
                            "    </tr>\n",
                            "    <tr>\n",
                            "      <th>10</th>\n",
                            "      <td>NaN</td>\n",
                            "      <td>75.29</td>\n",
                            "      <td>2012-08-17</td>\n",
                            "      <td>3001</td>\n",
                            "      <td>5003.0</td>\n",
                            "    </tr>\n",
                            "    <tr>\n",
                            "      <th>11</th>\n",
                            "      <td>70013.0</td>\n",
                            "      <td>3045.60</td>\n",
                            "      <td>2012-04-25</td>\n",
                            "      <td>3001</td>\n",
                            "      <td>NaN</td>\n",
                            "    </tr>\n",
                            "  </tbody>\n",
                            "</table>\n",
                            "</div>"
                        ],
                        "text/plain": [
                            "     ord_no  purch_amt    ord_date  customer_id  salesman_id\n",
                            "0   70001.0     150.50  2012-10-05         3002       5002.0\n",
                            "1       NaN     270.65  2012-09-10         3001       5003.0\n",
                            "2   70002.0      65.26         NaN         3001       5001.0\n",
                            "3   70004.0     110.50  2012-08-17         3003          NaN\n",
                            "4       NaN     948.50  2012-09-10         3002       5002.0\n",
                            "5   70005.0    2400.60  2012-07-27         3001       5001.0\n",
                            "6       NaN    5760.00  2012-09-10         3001       5001.0\n",
                            "7   70010.0    1983.43  2012-10-10         3004          NaN\n",
                            "8   70003.0    2480.40  2012-10-10         3003       5003.0\n",
                            "9   70012.0     250.45  2012-06-27         3002       5002.0\n",
                            "10      NaN      75.29  2012-08-17         3001       5003.0\n",
                            "11  70013.0    3045.60  2012-04-25         3001          NaN"
                        ]
                    },
                    "execution_count": 12,
                    "metadata": {},
                    "output_type": "execute_result"
                }
            ],
            "source": [
                "df"
            ]
        },
        {
            "cell_type": "code",
            "execution_count": 13,
            "metadata": {
                "id": "dLE2BFhiIj6e"
            },
            "outputs": [],
            "source": [
                "#solution\n",
                "df.dropna(inplace=FAlse)"
            ]
        },
        {
            "cell_type": "markdown",
            "metadata": {
                "id": "4eY7PZQEH4Jx"
            },
            "source": [
                "**Exercice 11 :**\n",
                "- Écrivez un programme Pandas pour calculer le nombre total de valeurs manquantes dans un DataFrame."
            ]
        },
        {
            "cell_type": "code",
            "execution_count": 17,
            "metadata": {
                "id": "WatIJeXeIljq"
            },
            "outputs": [
                {
                    "data": {
                        "text/plain": [
                            "np.int64(8)"
                        ]
                    },
                    "execution_count": 17,
                    "metadata": {},
                    "output_type": "execute_result"
                }
            ],
            "source": [
                "#solution\n",
                "df.isna().sum().sum()"
            ]
        },
        {
            "cell_type": "markdown",
            "metadata": {
                "id": "uKISlwI_JN87"
            },
            "source": [
                "**Exercice 12:**\n",
                "- Écrivez un programme Pandas pour remplacer NaNs par une seule valeur constante dans des colonnes spécifiées dans un DataFrame."
            ]
        },
        {
            "cell_type": "code",
            "execution_count": 18,
            "metadata": {
                "id": "w_UAKrYvJV98"
            },
            "outputs": [
                {
                    "data": {
                        "text/plain": [
                            "0     70001.0\n",
                            "1         0.0\n",
                            "2     70002.0\n",
                            "3     70004.0\n",
                            "4         0.0\n",
                            "5     70005.0\n",
                            "6         0.0\n",
                            "7     70010.0\n",
                            "8     70003.0\n",
                            "9     70012.0\n",
                            "10        0.0\n",
                            "11    70013.0\n",
                            "Name: ord_no, dtype: float64"
                        ]
                    },
                    "execution_count": 18,
                    "metadata": {},
                    "output_type": "execute_result"
                }
            ],
            "source": [
                "#solution\n",
                "df['ord_no'].fillna(0)"
            ]
        },
        {
            "cell_type": "markdown",
            "metadata": {
                "id": "J1iOSzUSJan4"
            },
            "source": [
                "**Exercice 13:**\n",
                "- Écrivez un programme Pandas pour remplacer NaNs par la valeur de la ligne précédente ou de la ligne suivante dans un DataFrame."
            ]
        },
        {
            "cell_type": "code",
            "execution_count": null,
            "metadata": {
                "id": "w9r3XddMJ-OK"
            },
            "outputs": [],
            "source": [
                "#solution"
            ]
        },
        {
            "cell_type": "markdown",
            "metadata": {
                "id": "8k7GnXSiKGmD"
            },
            "source": [
                "**Exercice 14:**\n",
                "- Écrivez un programme Pandas pour remplacer les NaN par la médiane ou la moyenne des colonnes spécifiées dans un DataFrame."
            ]
        },
        {
            "cell_type": "code",
            "execution_count": 7,
            "metadata": {
                "id": "JHck0PKmKdAR"
            },
            "outputs": [],
            "source": [
                "pd.set_option('display.max_rows', None)\n",
                "df = pd.DataFrame({\n",
                "'ord_no':[70001,np.nan,70002,70004,np.nan,70005,np.nan,70010,70003,70012,np.nan,70013],\n",
                "'purch_amt':[150.5,np.nan,65.26,110.5,948.5,np.nan,5760,1983.43,np.nan,250.45, 75.29,3045.6],\n",
                "'sale_amt':[10.5,20.65,np.nan,11.5,98.5,np.nan,57,19.43,np.nan,25.45, 75.29,35.6],\n",
                "'ord_date': ['2012-10-05','2012-09-10',np.nan,'2012-08-17','2012-09-10','2012-07-27','2012-09-10','2012-10-10','2012-10-10','2012-06-27','2012-08-17','2012-04-25'],\n",
                "'customer_id':[3002,3001,3001,3003,3002,3001,3001,3004,3003,3002,3001,3001],\n",
                "'salesman_id':[5002,5003,5001,np.nan,5002,5001,5001,np.nan,5003,5002,5003,np.nan]})"
            ]
        },
        {
            "cell_type": "code",
            "execution_count": null,
            "metadata": {
                "id": "I7REsFsAKQ1o"
            },
            "outputs": [],
            "source": [
                "#solution"
            ]
        }
    ],
    "metadata": {
        "kernelspec": {
            "display_name": "Python 3",
            "name": "python3"
        },
        "language_info": {
            "codemirror_mode": {
                "name": "ipython",
                "version": 3
            },
            "file_extension": ".py",
            "mimetype": "text/x-python",
            "name": "python",
            "nbconvert_exporter": "python",
            "pygments_lexer": "ipython3",
            "version": "3.12.1"
        }
    },
    "nbformat": 4,
    "nbformat_minor": 0
}
